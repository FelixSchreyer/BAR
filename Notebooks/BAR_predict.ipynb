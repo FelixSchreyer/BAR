{
 "cells": [
  {
   "cell_type": "code",
   "execution_count": 1,
   "outputs": [],
   "source": [
    "import numpy as np\n",
    "import pandas as pd\n",
    "from sklearn.preprocessing import MinMaxScaler\n",
    "from Algorithm.utils import rename_columns, transfer_X, map_output, load_model\n",
    "from sklearn.metrics import log_loss\n",
    "\n",
    "import sys\n",
    "\n",
    "sys.path.append(\"../Algorithm\")"
   ],
   "metadata": {
    "collapsed": false,
    "ExecuteTime": {
     "end_time": "2023-10-17T09:29:42.029366Z",
     "start_time": "2023-10-17T09:29:41.888420Z"
    }
   },
   "id": "4cfb804a7af79b2b"
  },
  {
   "cell_type": "code",
   "execution_count": 8,
   "id": "initial_id",
   "metadata": {
    "collapsed": true,
    "ExecuteTime": {
     "end_time": "2023-10-17T09:29:51.741568Z",
     "start_time": "2023-10-17T09:29:51.688676Z"
    }
   },
   "outputs": [],
   "source": [
    "W = pd.read_pickle('../Algorithm/weights.pkl')\n",
    "X = pd.read_pickle('../Data.nosync+/X_t_test.pkl')\n",
    "y = pd.read_pickle('../Data.nosync+/y_t_test.pkl')\n",
    "X_source = pd.read_parquet('turbofan_features.parquet', engine='pyarrow')\n",
    "\n",
    "model = load_model()"
   ]
  },
  {
   "cell_type": "code",
   "execution_count": 9,
   "outputs": [
    {
     "name": "stderr",
     "output_type": "stream",
     "text": [
      "/Users/felixschreyer/Documents/Dokumente/Abschlussarbeit/BAR/Algorithm/utils.py:89: PerformanceWarning: DataFrame is highly fragmented.  This is usually the result of calling `frame.insert` many times, which has poor performance.  Consider joining all columns at once using pd.concat(axis=1) instead. To get a de-fragmented frame, use `newframe = frame.copy()`\n",
      "  df_B[column_name] = 0\n",
      "/Users/felixschreyer/Documents/Dokumente/Abschlussarbeit/BAR/Algorithm/utils.py:89: PerformanceWarning: DataFrame is highly fragmented.  This is usually the result of calling `frame.insert` many times, which has poor performance.  Consider joining all columns at once using pd.concat(axis=1) instead. To get a de-fragmented frame, use `newframe = frame.copy()`\n",
      "  df_B[column_name] = 0\n",
      "/Users/felixschreyer/Documents/Dokumente/Abschlussarbeit/BAR/Algorithm/utils.py:89: PerformanceWarning: DataFrame is highly fragmented.  This is usually the result of calling `frame.insert` many times, which has poor performance.  Consider joining all columns at once using pd.concat(axis=1) instead. To get a de-fragmented frame, use `newframe = frame.copy()`\n",
      "  df_B[column_name] = 0\n",
      "/Users/felixschreyer/Documents/Dokumente/Abschlussarbeit/BAR/Algorithm/utils.py:89: PerformanceWarning: DataFrame is highly fragmented.  This is usually the result of calling `frame.insert` many times, which has poor performance.  Consider joining all columns at once using pd.concat(axis=1) instead. To get a de-fragmented frame, use `newframe = frame.copy()`\n",
      "  df_B[column_name] = 0\n",
      "/Users/felixschreyer/Documents/Dokumente/Abschlussarbeit/BAR/Algorithm/utils.py:89: PerformanceWarning: DataFrame is highly fragmented.  This is usually the result of calling `frame.insert` many times, which has poor performance.  Consider joining all columns at once using pd.concat(axis=1) instead. To get a de-fragmented frame, use `newframe = frame.copy()`\n",
      "  df_B[column_name] = 0\n",
      "/Users/felixschreyer/Documents/Dokumente/Abschlussarbeit/BAR/Algorithm/utils.py:89: PerformanceWarning: DataFrame is highly fragmented.  This is usually the result of calling `frame.insert` many times, which has poor performance.  Consider joining all columns at once using pd.concat(axis=1) instead. To get a de-fragmented frame, use `newframe = frame.copy()`\n",
      "  df_B[column_name] = 0\n",
      "/Users/felixschreyer/Documents/Dokumente/Abschlussarbeit/BAR/Algorithm/utils.py:89: PerformanceWarning: DataFrame is highly fragmented.  This is usually the result of calling `frame.insert` many times, which has poor performance.  Consider joining all columns at once using pd.concat(axis=1) instead. To get a de-fragmented frame, use `newframe = frame.copy()`\n",
      "  df_B[column_name] = 0\n",
      "/Users/felixschreyer/Documents/Dokumente/Abschlussarbeit/BAR/Algorithm/utils.py:89: PerformanceWarning: DataFrame is highly fragmented.  This is usually the result of calling `frame.insert` many times, which has poor performance.  Consider joining all columns at once using pd.concat(axis=1) instead. To get a de-fragmented frame, use `newframe = frame.copy()`\n",
      "  df_B[column_name] = 0\n",
      "/Users/felixschreyer/Documents/Dokumente/Abschlussarbeit/BAR/Algorithm/utils.py:89: PerformanceWarning: DataFrame is highly fragmented.  This is usually the result of calling `frame.insert` many times, which has poor performance.  Consider joining all columns at once using pd.concat(axis=1) instead. To get a de-fragmented frame, use `newframe = frame.copy()`\n",
      "  df_B[column_name] = 0\n",
      "/Users/felixschreyer/Documents/Dokumente/Abschlussarbeit/BAR/Algorithm/utils.py:89: PerformanceWarning: DataFrame is highly fragmented.  This is usually the result of calling `frame.insert` many times, which has poor performance.  Consider joining all columns at once using pd.concat(axis=1) instead. To get a de-fragmented frame, use `newframe = frame.copy()`\n",
      "  df_B[column_name] = 0\n",
      "/Users/felixschreyer/Documents/Dokumente/Abschlussarbeit/BAR/Algorithm/utils.py:89: PerformanceWarning: DataFrame is highly fragmented.  This is usually the result of calling `frame.insert` many times, which has poor performance.  Consider joining all columns at once using pd.concat(axis=1) instead. To get a de-fragmented frame, use `newframe = frame.copy()`\n",
      "  df_B[column_name] = 0\n",
      "/Users/felixschreyer/Documents/Dokumente/Abschlussarbeit/BAR/Algorithm/utils.py:89: PerformanceWarning: DataFrame is highly fragmented.  This is usually the result of calling `frame.insert` many times, which has poor performance.  Consider joining all columns at once using pd.concat(axis=1) instead. To get a de-fragmented frame, use `newframe = frame.copy()`\n",
      "  df_B[column_name] = 0\n",
      "/Users/felixschreyer/Documents/Dokumente/Abschlussarbeit/BAR/Algorithm/utils.py:89: PerformanceWarning: DataFrame is highly fragmented.  This is usually the result of calling `frame.insert` many times, which has poor performance.  Consider joining all columns at once using pd.concat(axis=1) instead. To get a de-fragmented frame, use `newframe = frame.copy()`\n",
      "  df_B[column_name] = 0\n",
      "/Users/felixschreyer/Documents/Dokumente/Abschlussarbeit/BAR/Algorithm/utils.py:89: PerformanceWarning: DataFrame is highly fragmented.  This is usually the result of calling `frame.insert` many times, which has poor performance.  Consider joining all columns at once using pd.concat(axis=1) instead. To get a de-fragmented frame, use `newframe = frame.copy()`\n",
      "  df_B[column_name] = 0\n",
      "/Users/felixschreyer/Documents/Dokumente/Abschlussarbeit/BAR/Algorithm/utils.py:89: PerformanceWarning: DataFrame is highly fragmented.  This is usually the result of calling `frame.insert` many times, which has poor performance.  Consider joining all columns at once using pd.concat(axis=1) instead. To get a de-fragmented frame, use `newframe = frame.copy()`\n",
      "  df_B[column_name] = 0\n"
     ]
    }
   ],
   "source": [
    "X = rename_columns(X_source, X)\n",
    "scaler = MinMaxScaler()\n",
    "X = pd.DataFrame(scaler.fit_transform(X), columns=X.columns)\n",
    "X_hat = transfer_X(X, W)\n",
    "output_translated = map_output(model.predict_proba(X_hat))"
   ],
   "metadata": {
    "collapsed": false,
    "ExecuteTime": {
     "end_time": "2023-10-17T09:29:52.157034Z",
     "start_time": "2023-10-17T09:29:52.128228Z"
    }
   },
   "id": "b2fdfcf020431445"
  },
  {
   "cell_type": "code",
   "execution_count": 10,
   "outputs": [
    {
     "data": {
      "text/plain": "array([[0.37684272, 0.14736135, 0.47579592],\n       [0.30309348, 0.15672495, 0.54018157],\n       [0.27126564, 0.13204055, 0.59669381],\n       [0.24448965, 0.14208409, 0.61342626]])"
     },
     "execution_count": 10,
     "metadata": {},
     "output_type": "execute_result"
    }
   ],
   "source": [
    "predicted_classes = np.argmax(output_translated, axis=1)+1\n",
    "output_translated"
   ],
   "metadata": {
    "collapsed": false,
    "ExecuteTime": {
     "end_time": "2023-10-17T09:29:52.438908Z",
     "start_time": "2023-10-17T09:29:52.433615Z"
    }
   },
   "id": "e832bf174d5357f9"
  },
  {
   "cell_type": "code",
   "execution_count": 11,
   "outputs": [
    {
     "data": {
      "text/plain": "id\n(1, 2023-01-01 08:59:10.460000)    1\n(1, 2023-01-01 09:14:10.460000)    1\n(1, 2023-01-01 09:29:10.460000)    2\n(1, 2023-01-01 09:44:55.460000)    3\nName: RUL_rolled_class, dtype: int64"
     },
     "execution_count": 11,
     "metadata": {},
     "output_type": "execute_result"
    }
   ],
   "source": [
    "y"
   ],
   "metadata": {
    "collapsed": false,
    "ExecuteTime": {
     "end_time": "2023-10-17T09:29:52.856403Z",
     "start_time": "2023-10-17T09:29:52.852684Z"
    }
   },
   "id": "5a4ee2a918c42a9d"
  },
  {
   "cell_type": "code",
   "execution_count": 12,
   "outputs": [
    {
     "data": {
      "text/plain": "array([3, 3, 3, 3])"
     },
     "execution_count": 12,
     "metadata": {},
     "output_type": "execute_result"
    }
   ],
   "source": [
    "predicted_classes"
   ],
   "metadata": {
    "collapsed": false,
    "ExecuteTime": {
     "end_time": "2023-10-17T09:29:53.559973Z",
     "start_time": "2023-10-17T09:29:53.555573Z"
    }
   },
   "id": "4e3b3db7b736058f"
  },
  {
   "cell_type": "code",
   "execution_count": 13,
   "outputs": [
    {
     "data": {
      "text/plain": "<Figure size 800x600 with 1 Axes>",
      "image/png": "[encoded data removed]"
     },
     "metadata": {},
     "output_type": "display_data"
    }
   ],
   "source": [
    "from sklearn.metrics import confusion_matrix\n",
    "from matplotlib import pyplot as plt\n",
    "import seaborn as sns\n",
    "\n",
    "cm = confusion_matrix(y_true=y, y_pred=predicted_classes)\n",
    "# Define class labels (change to your own class labels)\n",
    "class_labels = [\"Class 1\", \"Class 2\", \"Class 3\"]\n",
    "\n",
    "# Create a heatmap of the confusion matrix\n",
    "plt.figure(figsize=(8, 6))\n",
    "sns.set(font_scale=1.2)  # Adjust the font scale for better readability\n",
    "sns.heatmap(cm, annot=True, cmap=\"Blues\", fmt=\"d\", cbar=False, square=True,\n",
    "            xticklabels=class_labels, yticklabels=class_labels)\n",
    "\n",
    "plt.xlabel('Predicted')\n",
    "plt.ylabel('Actual')\n",
    "plt.title('Confusion Matrix')\n",
    "plt.show()"
   ],
   "metadata": {
    "collapsed": false,
    "ExecuteTime": {
     "end_time": "2023-10-17T09:29:54.131275Z",
     "start_time": "2023-10-17T09:29:54.054303Z"
    }
   },
   "id": "9eb34d1a7fcc3fa5"
  },
  {
   "cell_type": "code",
   "execution_count": 27,
   "outputs": [],
   "source": [
    "from sklearn.utils import compute_class_weight\n",
    "\n",
    "class_weights = compute_class_weight('balanced', classes=np.unique(y), y=y)\n"
   ],
   "metadata": {
    "collapsed": false,
    "ExecuteTime": {
     "end_time": "2023-10-16T14:34:01.420202Z",
     "start_time": "2023-10-16T14:34:01.416336Z"
    }
   },
   "id": "fc5656fa6d09a132"
  },
  {
   "cell_type": "code",
   "execution_count": 28,
   "outputs": [
    {
     "data": {
      "text/plain": "array([1.16666667, 3.5       , 0.53846154])"
     },
     "execution_count": 28,
     "metadata": {},
     "output_type": "execute_result"
    }
   ],
   "source": [
    "class_weights"
   ],
   "metadata": {
    "collapsed": false,
    "ExecuteTime": {
     "end_time": "2023-10-16T14:34:01.943210Z",
     "start_time": "2023-10-16T14:34:01.938750Z"
    }
   },
   "id": "6ecaf09b51427662"
  },
  {
   "cell_type": "code",
   "execution_count": 16,
   "outputs": [],
   "source": [],
   "metadata": {
    "collapsed": false,
    "ExecuteTime": {
     "end_time": "2023-10-16T11:17:30.121660Z",
     "start_time": "2023-10-16T11:17:30.119015Z"
    }
   },
   "id": "65fc1d0995f1288e"
  }
 ],
 "metadata": {
  "kernelspec": {
   "display_name": "Python 3",
   "language": "python",
   "name": "python3"
  },
  "language_info": {
   "codemirror_mode": {
    "name": "ipython",
    "version": 2
   },
   "file_extension": ".py",
   "mimetype": "text/x-python",
   "name": "python",
   "nbconvert_exporter": "python",
   "pygments_lexer": "ipython2",
   "version": "2.7.6"
  }
 },
 "nbformat": 4,
 "nbformat_minor": 5
}
