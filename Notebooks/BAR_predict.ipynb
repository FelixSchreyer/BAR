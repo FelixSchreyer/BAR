{
 "cells": [
  {
   "cell_type": "code",
   "execution_count": 1,
   "outputs": [],
   "source": [
    "import numpy as np\n",
    "import pandas as pd\n",
    "from sklearn.preprocessing import MinMaxScaler\n",
    "from Algorithm.utils import rename_columns, transfer_X, map_output, load_model\n",
    "\n",
    "import sys\n",
    "\n",
    "sys.path.append(\"../Algorithm\")"
   ],
   "metadata": {
    "collapsed": false,
    "ExecuteTime": {
     "end_time": "2023-10-24T10:47:08.316314Z",
     "start_time": "2023-10-24T10:47:08.153252Z"
    }
   },
   "id": "4cfb804a7af79b2b"
  },
  {
   "cell_type": "code",
   "execution_count": 2,
   "id": "initial_id",
   "metadata": {
    "collapsed": true,
    "ExecuteTime": {
     "end_time": "2023-10-24T10:47:08.522334Z",
     "start_time": "2023-10-24T10:47:08.318555Z"
    }
   },
   "outputs": [],
   "source": [
    "W = pd.read_pickle('../Algorithm/weights_2.pkl')\n",
    "X = pd.read_pickle('../Data.nosync+/X_t_train.pkl')\n",
    "y = pd.read_pickle('../Data.nosync+/y_t_train.pkl')\n",
    "X_source = pd.read_parquet('turbofan_features.parquet', engine='pyarrow')\n",
    "\n",
    "model = load_model()"
   ]
  },
  {
   "cell_type": "code",
   "execution_count": 3,
   "outputs": [
    {
     "name": "stderr",
     "output_type": "stream",
     "text": [
      "/Users/felixschreyer/Documents/Dokumente/Abschlussarbeit/BAR/Algorithm/utils.py:97: PerformanceWarning: DataFrame is highly fragmented.  This is usually the result of calling `frame.insert` many times, which has poor performance.  Consider joining all columns at once using pd.concat(axis=1) instead. To get a de-fragmented frame, use `newframe = frame.copy()`\n",
      "  df_B[column_name] = 0\n",
      "/Users/felixschreyer/Documents/Dokumente/Abschlussarbeit/BAR/Algorithm/utils.py:97: PerformanceWarning: DataFrame is highly fragmented.  This is usually the result of calling `frame.insert` many times, which has poor performance.  Consider joining all columns at once using pd.concat(axis=1) instead. To get a de-fragmented frame, use `newframe = frame.copy()`\n",
      "  df_B[column_name] = 0\n",
      "/Users/felixschreyer/Documents/Dokumente/Abschlussarbeit/BAR/Algorithm/utils.py:97: PerformanceWarning: DataFrame is highly fragmented.  This is usually the result of calling `frame.insert` many times, which has poor performance.  Consider joining all columns at once using pd.concat(axis=1) instead. To get a de-fragmented frame, use `newframe = frame.copy()`\n",
      "  df_B[column_name] = 0\n",
      "/Users/felixschreyer/Documents/Dokumente/Abschlussarbeit/BAR/Algorithm/utils.py:97: PerformanceWarning: DataFrame is highly fragmented.  This is usually the result of calling `frame.insert` many times, which has poor performance.  Consider joining all columns at once using pd.concat(axis=1) instead. To get a de-fragmented frame, use `newframe = frame.copy()`\n",
      "  df_B[column_name] = 0\n",
      "/Users/felixschreyer/Documents/Dokumente/Abschlussarbeit/BAR/Algorithm/utils.py:97: PerformanceWarning: DataFrame is highly fragmented.  This is usually the result of calling `frame.insert` many times, which has poor performance.  Consider joining all columns at once using pd.concat(axis=1) instead. To get a de-fragmented frame, use `newframe = frame.copy()`\n",
      "  df_B[column_name] = 0\n",
      "/Users/felixschreyer/Documents/Dokumente/Abschlussarbeit/BAR/Algorithm/utils.py:97: PerformanceWarning: DataFrame is highly fragmented.  This is usually the result of calling `frame.insert` many times, which has poor performance.  Consider joining all columns at once using pd.concat(axis=1) instead. To get a de-fragmented frame, use `newframe = frame.copy()`\n",
      "  df_B[column_name] = 0\n",
      "/Users/felixschreyer/Documents/Dokumente/Abschlussarbeit/BAR/Algorithm/utils.py:97: PerformanceWarning: DataFrame is highly fragmented.  This is usually the result of calling `frame.insert` many times, which has poor performance.  Consider joining all columns at once using pd.concat(axis=1) instead. To get a de-fragmented frame, use `newframe = frame.copy()`\n",
      "  df_B[column_name] = 0\n",
      "/Users/felixschreyer/Documents/Dokumente/Abschlussarbeit/BAR/Algorithm/utils.py:97: PerformanceWarning: DataFrame is highly fragmented.  This is usually the result of calling `frame.insert` many times, which has poor performance.  Consider joining all columns at once using pd.concat(axis=1) instead. To get a de-fragmented frame, use `newframe = frame.copy()`\n",
      "  df_B[column_name] = 0\n",
      "/Users/felixschreyer/Documents/Dokumente/Abschlussarbeit/BAR/Algorithm/utils.py:97: PerformanceWarning: DataFrame is highly fragmented.  This is usually the result of calling `frame.insert` many times, which has poor performance.  Consider joining all columns at once using pd.concat(axis=1) instead. To get a de-fragmented frame, use `newframe = frame.copy()`\n",
      "  df_B[column_name] = 0\n",
      "/Users/felixschreyer/Documents/Dokumente/Abschlussarbeit/BAR/Algorithm/utils.py:97: PerformanceWarning: DataFrame is highly fragmented.  This is usually the result of calling `frame.insert` many times, which has poor performance.  Consider joining all columns at once using pd.concat(axis=1) instead. To get a de-fragmented frame, use `newframe = frame.copy()`\n",
      "  df_B[column_name] = 0\n",
      "/Users/felixschreyer/Documents/Dokumente/Abschlussarbeit/BAR/Algorithm/utils.py:97: PerformanceWarning: DataFrame is highly fragmented.  This is usually the result of calling `frame.insert` many times, which has poor performance.  Consider joining all columns at once using pd.concat(axis=1) instead. To get a de-fragmented frame, use `newframe = frame.copy()`\n",
      "  df_B[column_name] = 0\n",
      "/Users/felixschreyer/Documents/Dokumente/Abschlussarbeit/BAR/Algorithm/utils.py:97: PerformanceWarning: DataFrame is highly fragmented.  This is usually the result of calling `frame.insert` many times, which has poor performance.  Consider joining all columns at once using pd.concat(axis=1) instead. To get a de-fragmented frame, use `newframe = frame.copy()`\n",
      "  df_B[column_name] = 0\n",
      "/Users/felixschreyer/Documents/Dokumente/Abschlussarbeit/BAR/Algorithm/utils.py:97: PerformanceWarning: DataFrame is highly fragmented.  This is usually the result of calling `frame.insert` many times, which has poor performance.  Consider joining all columns at once using pd.concat(axis=1) instead. To get a de-fragmented frame, use `newframe = frame.copy()`\n",
      "  df_B[column_name] = 0\n",
      "/Users/felixschreyer/Documents/Dokumente/Abschlussarbeit/BAR/Algorithm/utils.py:97: PerformanceWarning: DataFrame is highly fragmented.  This is usually the result of calling `frame.insert` many times, which has poor performance.  Consider joining all columns at once using pd.concat(axis=1) instead. To get a de-fragmented frame, use `newframe = frame.copy()`\n",
      "  df_B[column_name] = 0\n",
      "/Users/felixschreyer/Documents/Dokumente/Abschlussarbeit/BAR/Algorithm/utils.py:97: PerformanceWarning: DataFrame is highly fragmented.  This is usually the result of calling `frame.insert` many times, which has poor performance.  Consider joining all columns at once using pd.concat(axis=1) instead. To get a de-fragmented frame, use `newframe = frame.copy()`\n",
      "  df_B[column_name] = 0\n"
     ]
    }
   ],
   "source": [
    "X = rename_columns(X_source, X)\n",
    "scaler = MinMaxScaler()\n",
    "X = pd.DataFrame(scaler.fit_transform(X), columns=X.columns)\n",
    "X_hat = transfer_X(X, W)\n",
    "output_translated = map_output(model.predict_proba(X_hat))"
   ],
   "metadata": {
    "collapsed": false,
    "ExecuteTime": {
     "end_time": "2023-10-24T10:47:08.553192Z",
     "start_time": "2023-10-24T10:47:08.533890Z"
    }
   },
   "id": "b2fdfcf020431445"
  },
  {
   "cell_type": "code",
   "execution_count": 4,
   "outputs": [
    {
     "data": {
      "text/plain": "array([[0.38559328, 0.1397834 , 0.47462332],\n       [0.39323041, 0.19497004, 0.41179955],\n       [0.45870511, 0.17153357, 0.36976132],\n       [0.44360631, 0.1599657 , 0.39642799],\n       [0.38559328, 0.1397834 , 0.47462332],\n       [0.39323041, 0.19497004, 0.41179955],\n       [0.45870511, 0.17153357, 0.36976132],\n       [0.45870511, 0.17153357, 0.36976132],\n       [0.43133329, 0.13890539, 0.42976132],\n       [0.48084117, 0.11451   , 0.40464883],\n       [0.44632716, 0.10579997, 0.44787286],\n       [0.44698258, 0.10485454, 0.44816288],\n       [0.41031591, 0.13433749, 0.4553466 ],\n       [0.41031591, 0.13433749, 0.4553466 ],\n       [0.41031591, 0.13433749, 0.4553466 ],\n       [0.40781519, 0.13683821, 0.4553466 ],\n       [0.40781519, 0.13683821, 0.4553466 ],\n       [0.40781519, 0.13683821, 0.4553466 ],\n       [0.40680097, 0.13785244, 0.4553466 ],\n       [0.40680097, 0.13785244, 0.4553466 ],\n       [0.40680097, 0.13785244, 0.4553466 ]])"
     },
     "execution_count": 4,
     "metadata": {},
     "output_type": "execute_result"
    }
   ],
   "source": [
    "predicted_classes = np.argmax(output_translated, axis=1)+1\n",
    "output_translated"
   ],
   "metadata": {
    "collapsed": false,
    "ExecuteTime": {
     "end_time": "2023-10-24T10:47:08.558368Z",
     "start_time": "2023-10-24T10:47:08.554332Z"
    }
   },
   "id": "e832bf174d5357f9"
  },
  {
   "cell_type": "code",
   "execution_count": 5,
   "outputs": [
    {
     "data": {
      "text/plain": "id\n(1, 2023-01-01 09:46:12.710000)    1\n(1, 2023-01-01 10:01:12.710000)    1\n(1, 2023-01-01 10:16:12.710000)    2\n(1, 2023-01-01 10:31:12.710000)    3\n(2, 2023-01-01 09:11:33.679000)    1\n(2, 2023-01-01 09:26:33.679000)    1\n(2, 2023-01-01 09:41:33.679000)    1\n(2, 2023-01-01 09:56:33.679000)    1\n(2, 2023-01-01 10:11:33.679000)    2\n(2, 2023-01-01 10:26:33.679000)    3\n(2, 2023-01-01 10:41:33.679000)    3\n(2, 2023-01-01 10:56:33.679000)    3\n(2, 2023-01-01 11:11:33.679000)    3\n(2, 2023-01-01 11:26:33.679000)    3\n(2, 2023-01-01 11:41:33.679000)    3\n(2, 2023-01-01 11:56:33.679000)    3\n(2, 2023-01-01 12:11:33.679000)    3\n(2, 2023-01-01 12:26:33.679000)    3\n(2, 2023-01-01 12:41:33.679000)    3\n(2, 2023-01-01 12:56:33.679000)    3\n(2, 2023-01-01 13:24:00.960000)    3\nName: RUL_rolled_class, dtype: int64"
     },
     "execution_count": 5,
     "metadata": {},
     "output_type": "execute_result"
    }
   ],
   "source": [
    "y"
   ],
   "metadata": {
    "collapsed": false,
    "ExecuteTime": {
     "end_time": "2023-10-24T10:47:08.564329Z",
     "start_time": "2023-10-24T10:47:08.560524Z"
    }
   },
   "id": "5a4ee2a918c42a9d"
  },
  {
   "cell_type": "code",
   "execution_count": 6,
   "outputs": [
    {
     "data": {
      "text/plain": "array([3, 3, 1, 1, 3, 3, 1, 1, 1, 1, 3, 3, 3, 3, 3, 3, 3, 3, 3, 3, 3])"
     },
     "execution_count": 6,
     "metadata": {},
     "output_type": "execute_result"
    }
   ],
   "source": [
    "predicted_classes"
   ],
   "metadata": {
    "collapsed": false,
    "ExecuteTime": {
     "end_time": "2023-10-24T10:47:08.566854Z",
     "start_time": "2023-10-24T10:47:08.563769Z"
    }
   },
   "id": "4e3b3db7b736058f"
  },
  {
   "cell_type": "code",
   "execution_count": 7,
   "outputs": [
    {
     "data": {
      "text/plain": "<Figure size 800x600 with 1 Axes>",
      "image/png": "[encoded data removed]"
     },
     "metadata": {},
     "output_type": "display_data"
    }
   ],
   "source": [
    "from sklearn.metrics import confusion_matrix\n",
    "from matplotlib import pyplot as plt\n",
    "import seaborn as sns\n",
    "\n",
    "cm = confusion_matrix(y_true=y, y_pred=predicted_classes)\n",
    "# Define class labels (change to your own class labels)\n",
    "class_labels = [\"Class 1\", \"Class 2\", \"Class 3\"]\n",
    "\n",
    "# Create a heatmap of the confusion matrix\n",
    "plt.figure(figsize=(8, 6))\n",
    "sns.set(font_scale=1.2)  # Adjust the font scale for better readability\n",
    "sns.heatmap(cm, annot=True, cmap=\"Blues\", fmt=\"d\", cbar=False, square=True,\n",
    "            xticklabels=class_labels, yticklabels=class_labels)\n",
    "\n",
    "plt.xlabel('Predicted')\n",
    "plt.ylabel('Actual')\n",
    "plt.title('Confusion Matrix')\n",
    "plt.show()"
   ],
   "metadata": {
    "collapsed": false,
    "ExecuteTime": {
     "end_time": "2023-10-24T10:47:08.663830Z",
     "start_time": "2023-10-24T10:47:08.568998Z"
    }
   },
   "id": "9eb34d1a7fcc3fa5"
  },
  {
   "cell_type": "code",
   "execution_count": 8,
   "outputs": [],
   "source": [
    "from sklearn.utils import compute_class_weight\n",
    "\n",
    "class_weights = compute_class_weight('balanced', classes=np.unique(y), y=y)"
   ],
   "metadata": {
    "collapsed": false,
    "ExecuteTime": {
     "end_time": "2023-10-24T10:47:08.667292Z",
     "start_time": "2023-10-24T10:47:08.663124Z"
    }
   },
   "id": "fc5656fa6d09a132"
  },
  {
   "cell_type": "code",
   "execution_count": 9,
   "outputs": [
    {
     "data": {
      "text/plain": "array([1.16666667, 3.5       , 0.53846154])"
     },
     "execution_count": 9,
     "metadata": {},
     "output_type": "execute_result"
    }
   ],
   "source": [
    "class_weights"
   ],
   "metadata": {
    "collapsed": false,
    "ExecuteTime": {
     "end_time": "2023-10-24T10:47:08.672968Z",
     "start_time": "2023-10-24T10:47:08.668857Z"
    }
   },
   "id": "6ecaf09b51427662"
  },
  {
   "cell_type": "code",
   "execution_count": 9,
   "outputs": [],
   "source": [],
   "metadata": {
    "collapsed": false,
    "ExecuteTime": {
     "end_time": "2023-10-24T10:47:08.675622Z",
     "start_time": "2023-10-24T10:47:08.672562Z"
    }
   },
   "id": "65fc1d0995f1288e"
  }
 ],
 "metadata": {
  "kernelspec": {
   "display_name": "Python 3",
   "language": "python",
   "name": "python3"
  },
  "language_info": {
   "codemirror_mode": {
    "name": "ipython",
    "version": 2
   },
   "file_extension": ".py",
   "mimetype": "text/x-python",
   "name": "python",
   "nbconvert_exporter": "python",
   "pygments_lexer": "ipython2",
   "version": "2.7.6"
  }
 },
 "nbformat": 4,
 "nbformat_minor": 5
}
