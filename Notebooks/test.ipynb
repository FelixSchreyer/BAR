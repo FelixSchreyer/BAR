{
 "cells": [
  {
   "cell_type": "code",
   "execution_count": 4,
   "id": "initial_id",
   "metadata": {
    "collapsed": true,
    "ExecuteTime": {
     "end_time": "2023-09-20T13:45:23.422438Z",
     "start_time": "2023-09-20T13:45:23.414675Z"
    }
   },
   "outputs": [],
   "source": [
    "import pandas as pd\n",
    "import numpy as np\n",
    "loaded_rul = pd.read_parquet('turbofan_RUL.parquet', engine='pyarrow')\n"
   ]
  },
  {
   "cell_type": "code",
   "execution_count": 6,
   "outputs": [
    {
     "data": {
      "text/plain": "            my_series\nid                   \n[1, 63]             3\n[1, 103]            3\n[1, 143]            3\n[1, 183]            2\n[2, 63]             3\n...               ...\n[709, 63]           3\n[709, 103]          3\n[709, 143]          3\n[709, 183]          3\n[709, 223]          2\n\n[3274 rows x 1 columns]",
      "text/html": "<div>\n<style scoped>\n    .dataframe tbody tr th:only-of-type {\n        vertical-align: middle;\n    }\n\n    .dataframe tbody tr th {\n        vertical-align: top;\n    }\n\n    .dataframe thead th {\n        text-align: right;\n    }\n</style>\n<table border=\"1\" class=\"dataframe\">\n  <thead>\n    <tr style=\"text-align: right;\">\n      <th></th>\n      <th>my_series</th>\n    </tr>\n    <tr>\n      <th>id</th>\n      <th></th>\n    </tr>\n  </thead>\n  <tbody>\n    <tr>\n      <th>[1, 63]</th>\n      <td>3</td>\n    </tr>\n    <tr>\n      <th>[1, 103]</th>\n      <td>3</td>\n    </tr>\n    <tr>\n      <th>[1, 143]</th>\n      <td>3</td>\n    </tr>\n    <tr>\n      <th>[1, 183]</th>\n      <td>2</td>\n    </tr>\n    <tr>\n      <th>[2, 63]</th>\n      <td>3</td>\n    </tr>\n    <tr>\n      <th>...</th>\n      <td>...</td>\n    </tr>\n    <tr>\n      <th>[709, 63]</th>\n      <td>3</td>\n    </tr>\n    <tr>\n      <th>[709, 103]</th>\n      <td>3</td>\n    </tr>\n    <tr>\n      <th>[709, 143]</th>\n      <td>3</td>\n    </tr>\n    <tr>\n      <th>[709, 183]</th>\n      <td>3</td>\n    </tr>\n    <tr>\n      <th>[709, 223]</th>\n      <td>2</td>\n    </tr>\n  </tbody>\n</table>\n<p>3274 rows × 1 columns</p>\n</div>"
     },
     "execution_count": 6,
     "metadata": {},
     "output_type": "execute_result"
    }
   ],
   "source": [
    "(loaded_rul)"
   ],
   "metadata": {
    "collapsed": false,
    "ExecuteTime": {
     "end_time": "2023-09-20T13:45:26.194352Z",
     "start_time": "2023-09-20T13:45:26.190346Z"
    }
   },
   "id": "13b7379ee33dd083"
  },
  {
   "cell_type": "code",
   "execution_count": null,
   "outputs": [],
   "source": [],
   "metadata": {
    "collapsed": false
   },
   "id": "131dbbd63730016"
  }
 ],
 "metadata": {
  "kernelspec": {
   "display_name": "Python 3",
   "language": "python",
   "name": "python3"
  },
  "language_info": {
   "codemirror_mode": {
    "name": "ipython",
    "version": 2
   },
   "file_extension": ".py",
   "mimetype": "text/x-python",
   "name": "python",
   "nbconvert_exporter": "python",
   "pygments_lexer": "ipython2",
   "version": "2.7.6"
  }
 },
 "nbformat": 4,
 "nbformat_minor": 5
}
