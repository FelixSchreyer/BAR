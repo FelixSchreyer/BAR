{
 "cells": [
  {
   "cell_type": "code",
   "execution_count": 1,
   "id": "initial_id",
   "metadata": {
    "collapsed": true,
    "ExecuteTime": {
     "end_time": "2023-10-10T14:03:48.204138Z",
     "start_time": "2023-10-10T14:03:48.177139Z"
    }
   },
   "outputs": [],
   "source": [
    "%matplotlib inline\n",
    "import pandas as pd\n",
    "import numpy as np\n",
    "import matplotlib.pyplot as plt\n",
    "import os"
   ]
  },
  {
   "cell_type": "markdown",
   "source": [
    "## Load Data\n",
    "First we load the data from the directory 'Data.nosync+'. We create a dataframe containing all data and provide column names."
   ],
   "metadata": {
    "collapsed": false
   },
   "id": "baa3793484d10e02"
  },
  {
   "cell_type": "code",
   "execution_count": 20,
   "outputs": [],
   "source": [
    "# define column names for easy indexing\n",
    "index_names = ['unit_nr', 'time_cycles']\n",
    "setting_names = ['setting_1', 'setting_2', 'setting_3']\n",
    "sensor_names = ['s_{}'.format(i) for i in range(1,22)] \n",
    "col_names = index_names + setting_names + sensor_names\n",
    "# read data\n",
    "directory = '../Data.nosync+/'\n",
    "files = ['train_FD001.txt', 'train_FD002.txt', 'train_FD003.txt', 'train_FD004.txt']\n",
    "dataframes = []\n",
    "for index, data in enumerate(files):\n",
    "    file_path = os.path.join(directory, data)\n",
    "    df = pd.read_csv(file_path, sep='\\s+', header=None, names=col_names)\n",
    "    df['unit_nr']=df['unit_nr'].apply(lambda x: str(index) + '_' + str(x))\n",
    "    dataframes.append(df)\n",
    "train = pd.concat(dataframes, ignore_index=True)"
   ],
   "metadata": {
    "collapsed": false,
    "ExecuteTime": {
     "end_time": "2023-09-11T10:54:59.368556Z",
     "start_time": "2023-09-11T10:54:58.944566Z"
    }
   },
   "id": "977ea43f093d99d2"
  },
  {
   "cell_type": "code",
   "execution_count": 21,
   "outputs": [
    {
     "data": {
      "text/plain": "       unit_nr  time_cycles  setting_1  setting_2  setting_3     s_1     s_2  \\\n0          0_1            1    -0.0007    -0.0004      100.0  518.67  641.82   \n1          0_1            2     0.0019    -0.0003      100.0  518.67  642.15   \n2          0_1            3    -0.0043     0.0003      100.0  518.67  642.35   \n3          0_1            4     0.0007     0.0000      100.0  518.67  642.35   \n4          0_1            5    -0.0019    -0.0002      100.0  518.67  642.37   \n...        ...          ...        ...        ...        ...     ...     ...   \n160354   3_249          251     9.9998     0.2500      100.0  489.05  605.33   \n160355   3_249          252     0.0028     0.0015      100.0  518.67  643.42   \n160356   3_249          253     0.0029     0.0000      100.0  518.67  643.68   \n160357   3_249          254    35.0046     0.8400      100.0  449.44  555.77   \n160358   3_249          255    42.0030     0.8400      100.0  445.00  549.85   \n\n            s_3      s_4    s_5  ...    s_12     s_13     s_14    s_15  s_16  \\\n0       1589.70  1400.60  14.62  ...  521.66  2388.02  8138.62  8.4195  0.03   \n1       1591.82  1403.14  14.62  ...  522.28  2388.07  8131.49  8.4318  0.03   \n2       1587.99  1404.20  14.62  ...  522.42  2388.03  8133.23  8.4178  0.03   \n3       1582.79  1401.87  14.62  ...  522.86  2388.08  8133.83  8.3682  0.03   \n4       1582.85  1406.22  14.62  ...  522.19  2388.04  8133.80  8.4294  0.03   \n...         ...      ...    ...  ...     ...      ...      ...     ...   ...   \n160354  1516.36  1315.28  10.52  ...  380.16  2388.73  8185.69  8.4541  0.03   \n160355  1598.92  1426.77  14.62  ...  535.02  2388.46  8185.47  8.2221  0.03   \n160356  1607.72  1430.56  14.62  ...  535.41  2388.48  8193.94  8.2525  0.03   \n160357  1381.29  1148.18   5.48  ...  187.92  2388.83  8125.64  9.0515  0.02   \n160358  1369.75  1147.45   3.91  ...  134.32  2388.66  8144.33  9.1207  0.02   \n\n        s_17  s_18   s_19   s_20     s_21  \n0        392  2388  100.0  39.06  23.4190  \n1        392  2388  100.0  39.00  23.4236  \n2        390  2388  100.0  38.95  23.3442  \n3        392  2388  100.0  38.88  23.3739  \n4        393  2388  100.0  38.90  23.4044  \n...      ...   ...    ...    ...      ...  \n160354   372  2319  100.0  29.11  17.5234  \n160355   396  2388  100.0  39.38  23.7151  \n160356   395  2388  100.0  39.78  23.8270  \n160357   337  2223  100.0  15.26   9.0774  \n160358   333  2212  100.0  10.66   6.4341  \n\n[160359 rows x 26 columns]",
      "text/html": "<div>\n<style scoped>\n    .dataframe tbody tr th:only-of-type {\n        vertical-align: middle;\n    }\n\n    .dataframe tbody tr th {\n        vertical-align: top;\n    }\n\n    .dataframe thead th {\n        text-align: right;\n    }\n</style>\n<table border=\"1\" class=\"dataframe\">\n  <thead>\n    <tr style=\"text-align: right;\">\n      <th></th>\n      <th>unit_nr</th>\n      <th>time_cycles</th>\n      <th>setting_1</th>\n      <th>setting_2</th>\n      <th>setting_3</th>\n      <th>s_1</th>\n      <th>s_2</th>\n      <th>s_3</th>\n      <th>s_4</th>\n      <th>s_5</th>\n      <th>...</th>\n      <th>s_12</th>\n      <th>s_13</th>\n      <th>s_14</th>\n      <th>s_15</th>\n      <th>s_16</th>\n      <th>s_17</th>\n      <th>s_18</th>\n      <th>s_19</th>\n      <th>s_20</th>\n      <th>s_21</th>\n    </tr>\n  </thead>\n  <tbody>\n    <tr>\n      <th>0</th>\n      <td>0_1</td>\n      <td>1</td>\n      <td>-0.0007</td>\n      <td>-0.0004</td>\n      <td>100.0</td>\n      <td>518.67</td>\n      <td>641.82</td>\n      <td>1589.70</td>\n      <td>1400.60</td>\n      <td>14.62</td>\n      <td>...</td>\n      <td>521.66</td>\n      <td>2388.02</td>\n      <td>8138.62</td>\n      <td>8.4195</td>\n      <td>0.03</td>\n      <td>392</td>\n      <td>2388</td>\n      <td>100.0</td>\n      <td>39.06</td>\n      <td>23.4190</td>\n    </tr>\n    <tr>\n      <th>1</th>\n      <td>0_1</td>\n      <td>2</td>\n      <td>0.0019</td>\n      <td>-0.0003</td>\n      <td>100.0</td>\n      <td>518.67</td>\n      <td>642.15</td>\n      <td>1591.82</td>\n      <td>1403.14</td>\n      <td>14.62</td>\n      <td>...</td>\n      <td>522.28</td>\n      <td>2388.07</td>\n      <td>8131.49</td>\n      <td>8.4318</td>\n      <td>0.03</td>\n      <td>392</td>\n      <td>2388</td>\n      <td>100.0</td>\n      <td>39.00</td>\n      <td>23.4236</td>\n    </tr>\n    <tr>\n      <th>2</th>\n      <td>0_1</td>\n      <td>3</td>\n      <td>-0.0043</td>\n      <td>0.0003</td>\n      <td>100.0</td>\n      <td>518.67</td>\n      <td>642.35</td>\n      <td>1587.99</td>\n      <td>1404.20</td>\n      <td>14.62</td>\n      <td>...</td>\n      <td>522.42</td>\n      <td>2388.03</td>\n      <td>8133.23</td>\n      <td>8.4178</td>\n      <td>0.03</td>\n      <td>390</td>\n      <td>2388</td>\n      <td>100.0</td>\n      <td>38.95</td>\n      <td>23.3442</td>\n    </tr>\n    <tr>\n      <th>3</th>\n      <td>0_1</td>\n      <td>4</td>\n      <td>0.0007</td>\n      <td>0.0000</td>\n      <td>100.0</td>\n      <td>518.67</td>\n      <td>642.35</td>\n      <td>1582.79</td>\n      <td>1401.87</td>\n      <td>14.62</td>\n      <td>...</td>\n      <td>522.86</td>\n      <td>2388.08</td>\n      <td>8133.83</td>\n      <td>8.3682</td>\n      <td>0.03</td>\n      <td>392</td>\n      <td>2388</td>\n      <td>100.0</td>\n      <td>38.88</td>\n      <td>23.3739</td>\n    </tr>\n    <tr>\n      <th>4</th>\n      <td>0_1</td>\n      <td>5</td>\n      <td>-0.0019</td>\n      <td>-0.0002</td>\n      <td>100.0</td>\n      <td>518.67</td>\n      <td>642.37</td>\n      <td>1582.85</td>\n      <td>1406.22</td>\n      <td>14.62</td>\n      <td>...</td>\n      <td>522.19</td>\n      <td>2388.04</td>\n      <td>8133.80</td>\n      <td>8.4294</td>\n      <td>0.03</td>\n      <td>393</td>\n      <td>2388</td>\n      <td>100.0</td>\n      <td>38.90</td>\n      <td>23.4044</td>\n    </tr>\n    <tr>\n      <th>...</th>\n      <td>...</td>\n      <td>...</td>\n      <td>...</td>\n      <td>...</td>\n      <td>...</td>\n      <td>...</td>\n      <td>...</td>\n      <td>...</td>\n      <td>...</td>\n      <td>...</td>\n      <td>...</td>\n      <td>...</td>\n      <td>...</td>\n      <td>...</td>\n      <td>...</td>\n      <td>...</td>\n      <td>...</td>\n      <td>...</td>\n      <td>...</td>\n      <td>...</td>\n      <td>...</td>\n    </tr>\n    <tr>\n      <th>160354</th>\n      <td>3_249</td>\n      <td>251</td>\n      <td>9.9998</td>\n      <td>0.2500</td>\n      <td>100.0</td>\n      <td>489.05</td>\n      <td>605.33</td>\n      <td>1516.36</td>\n      <td>1315.28</td>\n      <td>10.52</td>\n      <td>...</td>\n      <td>380.16</td>\n      <td>2388.73</td>\n      <td>8185.69</td>\n      <td>8.4541</td>\n      <td>0.03</td>\n      <td>372</td>\n      <td>2319</td>\n      <td>100.0</td>\n      <td>29.11</td>\n      <td>17.5234</td>\n    </tr>\n    <tr>\n      <th>160355</th>\n      <td>3_249</td>\n      <td>252</td>\n      <td>0.0028</td>\n      <td>0.0015</td>\n      <td>100.0</td>\n      <td>518.67</td>\n      <td>643.42</td>\n      <td>1598.92</td>\n      <td>1426.77</td>\n      <td>14.62</td>\n      <td>...</td>\n      <td>535.02</td>\n      <td>2388.46</td>\n      <td>8185.47</td>\n      <td>8.2221</td>\n      <td>0.03</td>\n      <td>396</td>\n      <td>2388</td>\n      <td>100.0</td>\n      <td>39.38</td>\n      <td>23.7151</td>\n    </tr>\n    <tr>\n      <th>160356</th>\n      <td>3_249</td>\n      <td>253</td>\n      <td>0.0029</td>\n      <td>0.0000</td>\n      <td>100.0</td>\n      <td>518.67</td>\n      <td>643.68</td>\n      <td>1607.72</td>\n      <td>1430.56</td>\n      <td>14.62</td>\n      <td>...</td>\n      <td>535.41</td>\n      <td>2388.48</td>\n      <td>8193.94</td>\n      <td>8.2525</td>\n      <td>0.03</td>\n      <td>395</td>\n      <td>2388</td>\n      <td>100.0</td>\n      <td>39.78</td>\n      <td>23.8270</td>\n    </tr>\n    <tr>\n      <th>160357</th>\n      <td>3_249</td>\n      <td>254</td>\n      <td>35.0046</td>\n      <td>0.8400</td>\n      <td>100.0</td>\n      <td>449.44</td>\n      <td>555.77</td>\n      <td>1381.29</td>\n      <td>1148.18</td>\n      <td>5.48</td>\n      <td>...</td>\n      <td>187.92</td>\n      <td>2388.83</td>\n      <td>8125.64</td>\n      <td>9.0515</td>\n      <td>0.02</td>\n      <td>337</td>\n      <td>2223</td>\n      <td>100.0</td>\n      <td>15.26</td>\n      <td>9.0774</td>\n    </tr>\n    <tr>\n      <th>160358</th>\n      <td>3_249</td>\n      <td>255</td>\n      <td>42.0030</td>\n      <td>0.8400</td>\n      <td>100.0</td>\n      <td>445.00</td>\n      <td>549.85</td>\n      <td>1369.75</td>\n      <td>1147.45</td>\n      <td>3.91</td>\n      <td>...</td>\n      <td>134.32</td>\n      <td>2388.66</td>\n      <td>8144.33</td>\n      <td>9.1207</td>\n      <td>0.02</td>\n      <td>333</td>\n      <td>2212</td>\n      <td>100.0</td>\n      <td>10.66</td>\n      <td>6.4341</td>\n    </tr>\n  </tbody>\n</table>\n<p>160359 rows × 26 columns</p>\n</div>"
     },
     "execution_count": 21,
     "metadata": {},
     "output_type": "execute_result"
    }
   ],
   "source": [
    "train"
   ],
   "metadata": {
    "collapsed": false,
    "ExecuteTime": {
     "end_time": "2023-09-11T10:55:00.171183Z",
     "start_time": "2023-09-11T10:55:00.141527Z"
    }
   },
   "id": "ee870ef77dc49a44"
  },
  {
   "cell_type": "markdown",
   "source": [
    "# Preprocessing\n",
    "Initially we normalize the sensor data. We then add a column containing the RUL value based on cycles. Said RUL is calculated by the difference between max cycle and current cycle for each unit individually."
   ],
   "metadata": {
    "collapsed": false
   },
   "id": "999e5c430d649ac8"
  },
  {
   "cell_type": "markdown",
   "source": [
    "### Functions"
   ],
   "metadata": {
    "collapsed": false
   },
   "id": "10c93232810bf784"
  },
  {
   "cell_type": "code",
   "execution_count": 22,
   "outputs": [],
   "source": [
    "def add_remaining_useful_life(df):\n",
    "    # Get the total number of cycles for each unit\n",
    "    grouped_by_unit = df.groupby(by=\"unit_nr\")\n",
    "    max_cycle = grouped_by_unit[\"time_cycles\"].max()    \n",
    "    # Merge the max cycle back into the original frame\n",
    "    result_frame = df.merge(max_cycle.to_frame(name='max_cycle'), left_on='unit_nr', right_index=True)    \n",
    "    # Calculate remaining useful life for each row\n",
    "    remaining_useful_life = result_frame[\"max_cycle\"] - result_frame[\"time_cycles\"]\n",
    "    result_frame[\"RUL\"] = remaining_useful_life    \n",
    "    # drop max_cycle as it's no longer needed\n",
    "    result_frame = result_frame.drop(\"max_cycle\", axis=1)\n",
    "    return result_frame"
   ],
   "metadata": {
    "collapsed": false,
    "ExecuteTime": {
     "end_time": "2023-09-11T10:55:29.672920Z",
     "start_time": "2023-09-11T10:55:29.669782Z"
    }
   },
   "id": "c50f15f24cdc7209"
  },
  {
   "cell_type": "code",
   "execution_count": 23,
   "outputs": [],
   "source": [
    "from sklearn.preprocessing import MinMaxScaler\n",
    "\n",
    "scaler = MinMaxScaler()\n",
    "columns_to_scale = ['s_2', 's_3', 's_4', 's_7', 's_8', 's_9', 's_11', 's_12', 's_13', 's_15', 's_17', 's_20', 's_21', 's_1', 's_5', 's_6', 's_10', 's_14', 's_16', 's_18', 's_19']\n",
    "for column in columns_to_scale:\n",
    "    train[column] = scaler.fit_transform(train[[column]])"
   ],
   "metadata": {
    "collapsed": false,
    "ExecuteTime": {
     "end_time": "2023-09-11T10:55:34.580942Z",
     "start_time": "2023-09-11T10:55:33.643369Z"
    }
   },
   "id": "727caf85a8d6a67f"
  },
  {
   "cell_type": "code",
   "execution_count": 42,
   "outputs": [],
   "source": [
    "# Remove those column as we can see that it's value is not changing#\n",
    "#cols_to_drop = ['setting_3', 's_1', 's_5', 's_6', 's_10', 's_14', 's_16', 's_18', 's_19']\n",
    "#train=train.drop(cols_to_drop, axis=1)"
   ],
   "metadata": {
    "collapsed": false,
    "ExecuteTime": {
     "end_time": "2023-09-05T08:44:31.703300Z",
     "start_time": "2023-09-05T08:44:31.699547Z"
    }
   },
   "id": "725fb811623f354b"
  },
  {
   "cell_type": "code",
   "execution_count": 71,
   "outputs": [
    {
     "name": "stdout",
     "output_type": "stream",
     "text": [
      "(160359, 27) There are no NA values:  True\n"
     ]
    }
   ],
   "source": [
    "# Adding RUL (Remaining Useful Life) to the train dataset\n",
    "train = add_remaining_useful_life(train)\n",
    "#train[sensor_names+['RUL']].head()\n",
    "train = train.fillna(method='ffill')\n",
    "print(train.shape, \"There are no NA values: \", (train.isna().sum()==0).all())"
   ],
   "metadata": {
    "collapsed": false,
    "ExecuteTime": {
     "end_time": "2023-09-05T09:21:39.947129Z",
     "start_time": "2023-09-05T09:21:39.894954Z"
    }
   },
   "id": "d54d14c6055b1233"
  },
  {
   "cell_type": "code",
   "execution_count": 72,
   "outputs": [
    {
     "data": {
      "text/plain": "<Figure size 1000x600 with 1 Axes>",
      "image/png": "[encoded data removed]"
     },
     "metadata": {},
     "output_type": "display_data"
    }
   ],
   "source": [
    "# distribution of RUL, similar to the 'describe function' of time_cycles above, but visual\n",
    "df_max_rul = train[['unit_nr', 'RUL']].groupby('unit_nr').max().reset_index()\n",
    "df_max_rul['RUL'].hist(bins=15, figsize=(10,6))\n",
    "plt.xlabel('RUL')\n",
    "plt.ylabel('frequency')\n",
    "plt.show()"
   ],
   "metadata": {
    "collapsed": false,
    "ExecuteTime": {
     "end_time": "2023-09-05T09:21:45.943301Z",
     "start_time": "2023-09-05T09:21:45.870712Z"
    }
   },
   "id": "f12c03b3d5101d00"
  },
  {
   "cell_type": "markdown",
   "source": [
    "Add RUL Classes"
   ],
   "metadata": {
    "collapsed": false
   },
   "id": "a0aac69e2b09731"
  },
  {
   "cell_type": "code",
   "execution_count": 73,
   "outputs": [
    {
     "data": {
      "text/plain": "0.10     47.0\n0.25     97.0\n0.50    163.0\n0.75    230.0\n0.90    295.0\nName: RUL, dtype: float64"
     },
     "execution_count": 73,
     "metadata": {},
     "output_type": "execute_result"
    }
   ],
   "source": [
    "train['RUL'].quantile([.1, .25, .5, .75, 0.9])"
   ],
   "metadata": {
    "collapsed": false,
    "ExecuteTime": {
     "end_time": "2023-09-05T09:21:49.763805Z",
     "start_time": "2023-09-05T09:21:49.756915Z"
    }
   },
   "id": "26a4a15493e2af0d"
  },
  {
   "cell_type": "code",
   "execution_count": 74,
   "outputs": [
    {
     "name": "stdout",
     "output_type": "stream",
     "text": [
      "(160359, 28)\n"
     ]
    },
    {
     "data": {
      "text/plain": "0    Attention_Required\n1    Attention_Required\n2    Attention_Required\n3    Attention_Required\n4    Attention_Required\nName: Class, dtype: category\nCategories (4, object): ['Inception' < 'Healthy' < 'Mature' < 'Attention_Required']"
     },
     "execution_count": 74,
     "metadata": {},
     "output_type": "execute_result"
    }
   ],
   "source": [
    "train['Class'] = pd.cut(x=train['RUL'], bins=[-1,51,103,155,361], labels=['Inception','Healthy','Mature','Attention_Required'])\n",
    "print(train.shape)\n",
    "train.Class.head()"
   ],
   "metadata": {
    "collapsed": false,
    "ExecuteTime": {
     "end_time": "2023-09-05T09:21:50.334780Z",
     "start_time": "2023-09-05T09:21:50.328594Z"
    }
   },
   "id": "cfcb3252da82e35f"
  },
  {
   "cell_type": "markdown",
   "source": [
    "# Train Model"
   ],
   "metadata": {
    "collapsed": false
   },
   "id": "9df030aad2eef998"
  },
  {
   "cell_type": "code",
   "execution_count": 75,
   "outputs": [
    {
     "name": "stdout",
     "output_type": "stream",
     "text": [
      "(107440, 24) (52919, 24)\n"
     ]
    },
    {
     "data": {
      "text/plain": "55013     Attention_Required\n47408                Healthy\n146141                   NaN\n154268    Attention_Required\n140451    Attention_Required\nName: Class, dtype: object"
     },
     "execution_count": 75,
     "metadata": {},
     "output_type": "execute_result"
    }
   ],
   "source": [
    "from sklearn.model_selection import train_test_split\n",
    "\n",
    "# Splitting of Independent & Dependent Variable and train input and output data\n",
    "X = train.drop(axis=0, columns=['Class','unit_nr','time_cycles','RUL'])\n",
    "Y = train.Class\n",
    "# Split into training and test sets\n",
    "X_train, X_validate, y_train, y_validate = train_test_split(X, Y, test_size=0.33, random_state=42)\n",
    "y_train=y_train.astype('object')\n",
    "print(X_train.shape, X_validate.shape)\n",
    "y_train.tail()"
   ],
   "metadata": {
    "collapsed": false,
    "ExecuteTime": {
     "end_time": "2023-09-05T09:21:52.907045Z",
     "start_time": "2023-09-05T09:21:52.891133Z"
    }
   },
   "id": "81d28ef68a426ca7"
  },
  {
   "cell_type": "code",
   "execution_count": 76,
   "outputs": [
    {
     "name": "stdout",
     "output_type": "stream",
     "text": [
      "[3 0 3 ... 4 0 0] [3 0 3 ... 0 0 0]\n"
     ]
    },
    {
     "data": {
      "text/plain": "RandomForestClassifier()",
      "text/html": "<style>#sk-container-id-4 {color: black;background-color: white;}#sk-container-id-4 pre{padding: 0;}#sk-container-id-4 div.sk-toggleable {background-color: white;}#sk-container-id-4 label.sk-toggleable__label {cursor: pointer;display: block;width: 100%;margin-bottom: 0;padding: 0.3em;box-sizing: border-box;text-align: center;}#sk-container-id-4 label.sk-toggleable__label-arrow:before {content: \"▸\";float: left;margin-right: 0.25em;color: #696969;}#sk-container-id-4 label.sk-toggleable__label-arrow:hover:before {color: black;}#sk-container-id-4 div.sk-estimator:hover label.sk-toggleable__label-arrow:before {color: black;}#sk-container-id-4 div.sk-toggleable__content {max-height: 0;max-width: 0;overflow: hidden;text-align: left;background-color: #f0f8ff;}#sk-container-id-4 div.sk-toggleable__content pre {margin: 0.2em;color: black;border-radius: 0.25em;background-color: #f0f8ff;}#sk-container-id-4 input.sk-toggleable__control:checked~div.sk-toggleable__content {max-height: 200px;max-width: 100%;overflow: auto;}#sk-container-id-4 input.sk-toggleable__control:checked~label.sk-toggleable__label-arrow:before {content: \"▾\";}#sk-container-id-4 div.sk-estimator input.sk-toggleable__control:checked~label.sk-toggleable__label {background-color: #d4ebff;}#sk-container-id-4 div.sk-label input.sk-toggleable__control:checked~label.sk-toggleable__label {background-color: #d4ebff;}#sk-container-id-4 input.sk-hidden--visually {border: 0;clip: rect(1px 1px 1px 1px);clip: rect(1px, 1px, 1px, 1px);height: 1px;margin: -1px;overflow: hidden;padding: 0;position: absolute;width: 1px;}#sk-container-id-4 div.sk-estimator {font-family: monospace;background-color: #f0f8ff;border: 1px dotted black;border-radius: 0.25em;box-sizing: border-box;margin-bottom: 0.5em;}#sk-container-id-4 div.sk-estimator:hover {background-color: #d4ebff;}#sk-container-id-4 div.sk-parallel-item::after {content: \"\";width: 100%;border-bottom: 1px solid gray;flex-grow: 1;}#sk-container-id-4 div.sk-label:hover label.sk-toggleable__label {background-color: #d4ebff;}#sk-container-id-4 div.sk-serial::before {content: \"\";position: absolute;border-left: 1px solid gray;box-sizing: border-box;top: 0;bottom: 0;left: 50%;z-index: 0;}#sk-container-id-4 div.sk-serial {display: flex;flex-direction: column;align-items: center;background-color: white;padding-right: 0.2em;padding-left: 0.2em;position: relative;}#sk-container-id-4 div.sk-item {position: relative;z-index: 1;}#sk-container-id-4 div.sk-parallel {display: flex;align-items: stretch;justify-content: center;background-color: white;position: relative;}#sk-container-id-4 div.sk-item::before, #sk-container-id-4 div.sk-parallel-item::before {content: \"\";position: absolute;border-left: 1px solid gray;box-sizing: border-box;top: 0;bottom: 0;left: 50%;z-index: -1;}#sk-container-id-4 div.sk-parallel-item {display: flex;flex-direction: column;z-index: 1;position: relative;background-color: white;}#sk-container-id-4 div.sk-parallel-item:first-child::after {align-self: flex-end;width: 50%;}#sk-container-id-4 div.sk-parallel-item:last-child::after {align-self: flex-start;width: 50%;}#sk-container-id-4 div.sk-parallel-item:only-child::after {width: 0;}#sk-container-id-4 div.sk-dashed-wrapped {border: 1px dashed gray;margin: 0 0.4em 0.5em 0.4em;box-sizing: border-box;padding-bottom: 0.4em;background-color: white;}#sk-container-id-4 div.sk-label label {font-family: monospace;font-weight: bold;display: inline-block;line-height: 1.2em;}#sk-container-id-4 div.sk-label-container {text-align: center;}#sk-container-id-4 div.sk-container {/* jupyter's `normalize.less` sets `[hidden] { display: none; }` but bootstrap.min.css set `[hidden] { display: none !important; }` so we also need the `!important` here to be able to override the default hidden behavior on the sphinx rendered scikit-learn.org. See: https://github.com/scikit-learn/scikit-learn/issues/21755 */display: inline-block !important;position: relative;}#sk-container-id-4 div.sk-text-repr-fallback {display: none;}</style><div id=\"sk-container-id-4\" class=\"sk-top-container\"><div class=\"sk-text-repr-fallback\"><pre>RandomForestClassifier()</pre><b>In a Jupyter environment, please rerun this cell to show the HTML representation or trust the notebook. <br />On GitHub, the HTML representation is unable to render, please try loading this page with nbviewer.org.</b></div><div class=\"sk-container\" hidden><div class=\"sk-item\"><div class=\"sk-estimator sk-toggleable\"><input class=\"sk-toggleable__control sk-hidden--visually\" id=\"sk-estimator-id-4\" type=\"checkbox\" checked><label for=\"sk-estimator-id-4\" class=\"sk-toggleable__label sk-toggleable__label-arrow\">RandomForestClassifier</label><div class=\"sk-toggleable__content\"><pre>RandomForestClassifier()</pre></div></div></div></div></div>"
     },
     "execution_count": 76,
     "metadata": {},
     "output_type": "execute_result"
    }
   ],
   "source": [
    "from sklearn.preprocessing import LabelEncoder\n",
    "from sklearn.ensemble import RandomForestClassifier\n",
    "\n",
    "num_of_classes = len(train.Class.unique())\n",
    "le = LabelEncoder()\n",
    "y_train = le.fit_transform(y_train)\n",
    "y_validate = le.fit_transform(y_validate)\n",
    "print(y_train, y_validate)\n"
   ],
   "metadata": {
    "collapsed": false,
    "ExecuteTime": {
     "end_time": "2023-09-05T09:22:14.882327Z",
     "start_time": "2023-09-05T09:21:53.719814Z"
    }
   },
   "id": "d1f85e3d1bdb01cd"
  },
  {
   "cell_type": "code",
   "execution_count": 86,
   "outputs": [
    {
     "data": {
      "text/plain": "       unit_nr  time_cycles  setting_1  setting_2  setting_3       s_1  \\\n0            1            1    -0.0007    -0.0004      100.0  1.000000   \n1            1            2     0.0019    -0.0003      100.0  1.000000   \n2            1            3    -0.0043     0.0003      100.0  1.000000   \n3            1            4     0.0007     0.0000      100.0  1.000000   \n4            1            5    -0.0019    -0.0002      100.0  1.000000   \n...        ...          ...        ...        ...        ...       ...   \n74385      260          312    20.0037     0.7000      100.0  0.626985   \n74386      260          313    10.0022     0.2510      100.0  0.597937   \n74387      260          314    25.0041     0.6200       60.0  0.238089   \n74388      260          315    25.0033     0.6220       60.0  0.238089   \n74389      260          316    35.0036     0.8400      100.0  0.060269   \n\n            s_2       s_3       s_4       s_5  ...      s_12      s_13  \\\n0      0.969990  0.927293  0.902111  1.000000  ...  0.961313  0.993194   \n1      0.973000  0.932957  0.908192  1.000000  ...  0.962828  0.993332   \n2      0.974824  0.922723  0.910730  1.000000  ...  0.963170  0.993222   \n3      0.974824  0.908829  0.905152  1.000000  ...  0.964246  0.993359   \n4      0.975007  0.908989  0.915565  1.000000  ...  0.962608  0.993249   \n...         ...       ...       ...       ...  ...       ...       ...   \n74385  0.668704  0.675850  0.588289  0.507937  ...  0.453932  0.995950   \n74386  0.641521  0.725871  0.719022  0.617180  ...  0.593651  0.994296   \n74387  0.018243  0.089702  0.081753  0.293184  ...  0.086588  0.007605   \n74388  0.021527  0.080911  0.101815  0.293184  ...  0.088127  0.007660   \n74389  0.193013  0.352555  0.291463  0.146592  ...  0.133878  0.999697   \n\n           s_14      s_15  s_16      s_17      s_18  s_19      s_20      s_21  \n0      0.653748  0.090428   1.0  0.918367  1.000000   1.0  0.972082  0.970373  \n1      0.637831  0.094654   1.0  0.918367  1.000000   1.0  0.970064  0.970630  \n2      0.641715  0.089844   1.0  0.897959  1.000000   1.0  0.968382  0.966204  \n3      0.643055  0.072803   1.0  0.918367  1.000000   1.0  0.966028  0.967860  \n4      0.642988  0.093829   1.0  0.928571  1.000000   1.0  0.966700  0.969560  \n...         ...       ...   ...       ...       ...   ...       ...       ...  \n74385  0.722999  0.394146   1.0  0.683673  0.864693   1.0  0.477632  0.474270  \n74386  0.892039  0.206933   1.0  0.734694  0.854123   1.0  0.603431  0.609526  \n74387  0.280104  0.999588   0.0  0.081633  0.000000   0.0  0.135553  0.141572  \n74388  0.282828  0.995465   0.0  0.091837  0.000000   0.0  0.130844  0.131683  \n74389  0.758070  0.427231   0.0  0.367347  0.651163   1.0  0.154390  0.157977  \n\n[160359 rows x 26 columns]",
      "text/html": "<div>\n<style scoped>\n    .dataframe tbody tr th:only-of-type {\n        vertical-align: middle;\n    }\n\n    .dataframe tbody tr th {\n        vertical-align: top;\n    }\n\n    .dataframe thead th {\n        text-align: right;\n    }\n</style>\n<table border=\"1\" class=\"dataframe\">\n  <thead>\n    <tr style=\"text-align: right;\">\n      <th></th>\n      <th>unit_nr</th>\n      <th>time_cycles</th>\n      <th>setting_1</th>\n      <th>setting_2</th>\n      <th>setting_3</th>\n      <th>s_1</th>\n      <th>s_2</th>\n      <th>s_3</th>\n      <th>s_4</th>\n      <th>s_5</th>\n      <th>...</th>\n      <th>s_12</th>\n      <th>s_13</th>\n      <th>s_14</th>\n      <th>s_15</th>\n      <th>s_16</th>\n      <th>s_17</th>\n      <th>s_18</th>\n      <th>s_19</th>\n      <th>s_20</th>\n      <th>s_21</th>\n    </tr>\n  </thead>\n  <tbody>\n    <tr>\n      <th>0</th>\n      <td>1</td>\n      <td>1</td>\n      <td>-0.0007</td>\n      <td>-0.0004</td>\n      <td>100.0</td>\n      <td>1.000000</td>\n      <td>0.969990</td>\n      <td>0.927293</td>\n      <td>0.902111</td>\n      <td>1.000000</td>\n      <td>...</td>\n      <td>0.961313</td>\n      <td>0.993194</td>\n      <td>0.653748</td>\n      <td>0.090428</td>\n      <td>1.0</td>\n      <td>0.918367</td>\n      <td>1.000000</td>\n      <td>1.0</td>\n      <td>0.972082</td>\n      <td>0.970373</td>\n    </tr>\n    <tr>\n      <th>1</th>\n      <td>1</td>\n      <td>2</td>\n      <td>0.0019</td>\n      <td>-0.0003</td>\n      <td>100.0</td>\n      <td>1.000000</td>\n      <td>0.973000</td>\n      <td>0.932957</td>\n      <td>0.908192</td>\n      <td>1.000000</td>\n      <td>...</td>\n      <td>0.962828</td>\n      <td>0.993332</td>\n      <td>0.637831</td>\n      <td>0.094654</td>\n      <td>1.0</td>\n      <td>0.918367</td>\n      <td>1.000000</td>\n      <td>1.0</td>\n      <td>0.970064</td>\n      <td>0.970630</td>\n    </tr>\n    <tr>\n      <th>2</th>\n      <td>1</td>\n      <td>3</td>\n      <td>-0.0043</td>\n      <td>0.0003</td>\n      <td>100.0</td>\n      <td>1.000000</td>\n      <td>0.974824</td>\n      <td>0.922723</td>\n      <td>0.910730</td>\n      <td>1.000000</td>\n      <td>...</td>\n      <td>0.963170</td>\n      <td>0.993222</td>\n      <td>0.641715</td>\n      <td>0.089844</td>\n      <td>1.0</td>\n      <td>0.897959</td>\n      <td>1.000000</td>\n      <td>1.0</td>\n      <td>0.968382</td>\n      <td>0.966204</td>\n    </tr>\n    <tr>\n      <th>3</th>\n      <td>1</td>\n      <td>4</td>\n      <td>0.0007</td>\n      <td>0.0000</td>\n      <td>100.0</td>\n      <td>1.000000</td>\n      <td>0.974824</td>\n      <td>0.908829</td>\n      <td>0.905152</td>\n      <td>1.000000</td>\n      <td>...</td>\n      <td>0.964246</td>\n      <td>0.993359</td>\n      <td>0.643055</td>\n      <td>0.072803</td>\n      <td>1.0</td>\n      <td>0.918367</td>\n      <td>1.000000</td>\n      <td>1.0</td>\n      <td>0.966028</td>\n      <td>0.967860</td>\n    </tr>\n    <tr>\n      <th>4</th>\n      <td>1</td>\n      <td>5</td>\n      <td>-0.0019</td>\n      <td>-0.0002</td>\n      <td>100.0</td>\n      <td>1.000000</td>\n      <td>0.975007</td>\n      <td>0.908989</td>\n      <td>0.915565</td>\n      <td>1.000000</td>\n      <td>...</td>\n      <td>0.962608</td>\n      <td>0.993249</td>\n      <td>0.642988</td>\n      <td>0.093829</td>\n      <td>1.0</td>\n      <td>0.928571</td>\n      <td>1.000000</td>\n      <td>1.0</td>\n      <td>0.966700</td>\n      <td>0.969560</td>\n    </tr>\n    <tr>\n      <th>...</th>\n      <td>...</td>\n      <td>...</td>\n      <td>...</td>\n      <td>...</td>\n      <td>...</td>\n      <td>...</td>\n      <td>...</td>\n      <td>...</td>\n      <td>...</td>\n      <td>...</td>\n      <td>...</td>\n      <td>...</td>\n      <td>...</td>\n      <td>...</td>\n      <td>...</td>\n      <td>...</td>\n      <td>...</td>\n      <td>...</td>\n      <td>...</td>\n      <td>...</td>\n      <td>...</td>\n    </tr>\n    <tr>\n      <th>74385</th>\n      <td>260</td>\n      <td>312</td>\n      <td>20.0037</td>\n      <td>0.7000</td>\n      <td>100.0</td>\n      <td>0.626985</td>\n      <td>0.668704</td>\n      <td>0.675850</td>\n      <td>0.588289</td>\n      <td>0.507937</td>\n      <td>...</td>\n      <td>0.453932</td>\n      <td>0.995950</td>\n      <td>0.722999</td>\n      <td>0.394146</td>\n      <td>1.0</td>\n      <td>0.683673</td>\n      <td>0.864693</td>\n      <td>1.0</td>\n      <td>0.477632</td>\n      <td>0.474270</td>\n    </tr>\n    <tr>\n      <th>74386</th>\n      <td>260</td>\n      <td>313</td>\n      <td>10.0022</td>\n      <td>0.2510</td>\n      <td>100.0</td>\n      <td>0.597937</td>\n      <td>0.641521</td>\n      <td>0.725871</td>\n      <td>0.719022</td>\n      <td>0.617180</td>\n      <td>...</td>\n      <td>0.593651</td>\n      <td>0.994296</td>\n      <td>0.892039</td>\n      <td>0.206933</td>\n      <td>1.0</td>\n      <td>0.734694</td>\n      <td>0.854123</td>\n      <td>1.0</td>\n      <td>0.603431</td>\n      <td>0.609526</td>\n    </tr>\n    <tr>\n      <th>74387</th>\n      <td>260</td>\n      <td>314</td>\n      <td>25.0041</td>\n      <td>0.6200</td>\n      <td>60.0</td>\n      <td>0.238089</td>\n      <td>0.018243</td>\n      <td>0.089702</td>\n      <td>0.081753</td>\n      <td>0.293184</td>\n      <td>...</td>\n      <td>0.086588</td>\n      <td>0.007605</td>\n      <td>0.280104</td>\n      <td>0.999588</td>\n      <td>0.0</td>\n      <td>0.081633</td>\n      <td>0.000000</td>\n      <td>0.0</td>\n      <td>0.135553</td>\n      <td>0.141572</td>\n    </tr>\n    <tr>\n      <th>74388</th>\n      <td>260</td>\n      <td>315</td>\n      <td>25.0033</td>\n      <td>0.6220</td>\n      <td>60.0</td>\n      <td>0.238089</td>\n      <td>0.021527</td>\n      <td>0.080911</td>\n      <td>0.101815</td>\n      <td>0.293184</td>\n      <td>...</td>\n      <td>0.088127</td>\n      <td>0.007660</td>\n      <td>0.282828</td>\n      <td>0.995465</td>\n      <td>0.0</td>\n      <td>0.091837</td>\n      <td>0.000000</td>\n      <td>0.0</td>\n      <td>0.130844</td>\n      <td>0.131683</td>\n    </tr>\n    <tr>\n      <th>74389</th>\n      <td>260</td>\n      <td>316</td>\n      <td>35.0036</td>\n      <td>0.8400</td>\n      <td>100.0</td>\n      <td>0.060269</td>\n      <td>0.193013</td>\n      <td>0.352555</td>\n      <td>0.291463</td>\n      <td>0.146592</td>\n      <td>...</td>\n      <td>0.133878</td>\n      <td>0.999697</td>\n      <td>0.758070</td>\n      <td>0.427231</td>\n      <td>0.0</td>\n      <td>0.367347</td>\n      <td>0.651163</td>\n      <td>1.0</td>\n      <td>0.154390</td>\n      <td>0.157977</td>\n    </tr>\n  </tbody>\n</table>\n<p>160359 rows × 26 columns</p>\n</div>"
     },
     "execution_count": 86,
     "metadata": {},
     "output_type": "execute_result"
    }
   ],
   "source": [
    "X_temp = train.drop(columns=['RUL', 'Class'])\n",
    "X_temp"
   ],
   "metadata": {
    "collapsed": false,
    "ExecuteTime": {
     "end_time": "2023-09-05T09:33:38.065607Z",
     "start_time": "2023-09-05T09:33:38.041520Z"
    }
   },
   "id": "29ee956d4c555f17"
  },
  {
   "cell_type": "code",
   "execution_count": null,
   "outputs": [
    {
     "name": "stderr",
     "output_type": "stream",
     "text": [
      "Feature Extraction:   0%|          | 0/20 [00:00<?, ?it/s]"
     ]
    }
   ],
   "source": [
    "from tsfresh import extract_relevant_features, extract_features\n",
    "\n",
    "X_temp_feat = extract_features(X_temp, column_id='unit_nr', column_sort='time_cycles')"
   ],
   "metadata": {
    "collapsed": false,
    "is_executing": true,
    "ExecuteTime": {
     "start_time": "2023-09-05T10:00:57.792895Z"
    }
   },
   "id": "36fb2d6a6746f222"
  },
  {
   "cell_type": "code",
   "execution_count": 92,
   "outputs": [
    {
     "data": {
      "text/plain": "                    Class  unit_nr\n0      Attention_Required        1\n1      Attention_Required        1\n2      Attention_Required        1\n3      Attention_Required        1\n4      Attention_Required        1\n...                   ...      ...\n74385           Inception      260\n74386           Inception      260\n74387           Inception      260\n74388           Inception      260\n74389           Inception      260\n\n[160359 rows x 2 columns]",
      "text/html": "<div>\n<style scoped>\n    .dataframe tbody tr th:only-of-type {\n        vertical-align: middle;\n    }\n\n    .dataframe tbody tr th {\n        vertical-align: top;\n    }\n\n    .dataframe thead th {\n        text-align: right;\n    }\n</style>\n<table border=\"1\" class=\"dataframe\">\n  <thead>\n    <tr style=\"text-align: right;\">\n      <th></th>\n      <th>Class</th>\n      <th>unit_nr</th>\n    </tr>\n  </thead>\n  <tbody>\n    <tr>\n      <th>0</th>\n      <td>Attention_Required</td>\n      <td>1</td>\n    </tr>\n    <tr>\n      <th>1</th>\n      <td>Attention_Required</td>\n      <td>1</td>\n    </tr>\n    <tr>\n      <th>2</th>\n      <td>Attention_Required</td>\n      <td>1</td>\n    </tr>\n    <tr>\n      <th>3</th>\n      <td>Attention_Required</td>\n      <td>1</td>\n    </tr>\n    <tr>\n      <th>4</th>\n      <td>Attention_Required</td>\n      <td>1</td>\n    </tr>\n    <tr>\n      <th>...</th>\n      <td>...</td>\n      <td>...</td>\n    </tr>\n    <tr>\n      <th>74385</th>\n      <td>Inception</td>\n      <td>260</td>\n    </tr>\n    <tr>\n      <th>74386</th>\n      <td>Inception</td>\n      <td>260</td>\n    </tr>\n    <tr>\n      <th>74387</th>\n      <td>Inception</td>\n      <td>260</td>\n    </tr>\n    <tr>\n      <th>74388</th>\n      <td>Inception</td>\n      <td>260</td>\n    </tr>\n    <tr>\n      <th>74389</th>\n      <td>Inception</td>\n      <td>260</td>\n    </tr>\n  </tbody>\n</table>\n<p>160359 rows × 2 columns</p>\n</div>"
     },
     "execution_count": 92,
     "metadata": {},
     "output_type": "execute_result"
    }
   ],
   "source": [],
   "metadata": {
    "collapsed": false,
    "ExecuteTime": {
     "end_time": "2023-09-05T09:55:57.416423Z",
     "start_time": "2023-09-05T09:55:57.219070Z"
    }
   },
   "id": "c98d5b2847e05c36"
  },
  {
   "cell_type": "code",
   "execution_count": null,
   "outputs": [],
   "source": [
    "rf = RandomForestClassifier()\n",
    "rf.fit(X=X_train, y=y_train)"
   ],
   "metadata": {
    "collapsed": false
   },
   "id": "efa098b9deffdb40"
  },
  {
   "cell_type": "code",
   "execution_count": 77,
   "outputs": [],
   "source": [
    "from sklearn.metrics import roc_auc_score, accuracy_score, recall_score, precision_score, f1_score\n",
    "from sklearn import preprocessing\n",
    "\n",
    "def evaluation(model, X, y, set=\"train\"):\n",
    "    y_hat = model.predict(X)\n",
    "    lb = preprocessing.LabelBinarizer()\n",
    "    y_lb = lb.fit_transform(y)\n",
    "    y_hat_lb = lb.transform(y_hat)\n",
    "    #print(y_lb, y_hat_lb)\n",
    "    print(f\"roc score for {set} dataset: \", roc_auc_score(y_lb, y_hat_lb, average='macro'))\n",
    "    print(f'Acc Score for {set} dataset: ', accuracy_score(y_lb, y_hat_lb))\n",
    "    print(f'Precision Score for {set} dataset: ', precision_score(y_lb, y_hat_lb, average='macro'))\n",
    "    print(f'Recall Score for {set} dataset: ', recall_score(y_lb, y_hat_lb, average='macro'))\n",
    "    print(f'f1 score for {set} dataset: ', f1_score(y_lb, y_hat_lb, average='macro'))"
   ],
   "metadata": {
    "collapsed": false,
    "ExecuteTime": {
     "end_time": "2023-09-05T09:22:14.882478Z",
     "start_time": "2023-09-05T09:22:14.878840Z"
    }
   },
   "id": "fbac72f0a517b43"
  },
  {
   "cell_type": "code",
   "execution_count": 78,
   "outputs": [
    {
     "data": {
      "text/plain": "           setting_1      setting_2      setting_3            s_1  \\\ncount  107440.000000  107440.000000  107440.000000  107440.000000   \nmean       17.183885       0.409344      95.703276       0.554828   \nstd        16.517058       0.367745      12.385820       0.412710   \nmin        -0.008700      -0.000600      60.000000       0.000000   \n25%         0.001300       0.000200     100.000000       0.060269   \n50%        19.998000       0.620000     100.000000       0.597937   \n75%        35.001500       0.840000     100.000000       1.000000   \nmax        42.008000       0.842000     100.000000       1.000000   \n\n                 s_2            s_3            s_4            s_5  \\\ncount  107440.000000  107440.000000  107440.000000  107440.000000   \nmean        0.564675       0.599619       0.568005       0.559346   \nstd         0.387518       0.315981       0.326430       0.398063   \nmin         0.000000       0.000000       0.000000       0.000000   \n25%         0.132081       0.306461       0.246648       0.146592   \n50%         0.642342       0.668715       0.600689       0.507937   \n75%         0.974824       0.919089       0.905966       1.000000   \nmax         1.000000       1.000000       0.998276       1.000000   \n\n                 s_6            s_7  ...           s_12           s_13  \\\ncount  107440.000000  107440.000000  ...  107440.000000  107440.000000   \nmean        0.549723       0.514775  ...       0.514814       0.886934   \nstd         0.404095       0.400556  ...       0.401192       0.306977   \nmin         0.000000       0.000598  ...       0.000000       0.000000   \n25%         0.146173       0.090972  ...       0.089178       0.993056   \n50%         0.501255       0.476521  ...       0.476428       0.993332   \n75%         1.000000       0.959691  ...       0.960531       0.993580   \nmax         1.000000       1.000000  ...       1.000000       0.999972   \n\n                s_14           s_15           s_16           s_17  \\\ncount  107440.000000  107440.000000  107440.000000  107440.000000   \nmean        0.542770       0.308728       0.519090       0.599053   \nstd         0.180357       0.258682       0.499638       0.316753   \nmin         0.000000       0.000000       0.000000       0.000000   \n25%         0.501585       0.097231       0.000000       0.306122   \n50%         0.609390       0.290713       1.000000       0.663265   \n75%         0.655534       0.408095       1.000000       0.918367   \nmax         1.000000       0.999794       1.000000       1.000000   \n\n                s_18           s_19           s_20           s_21  \ncount  107440.000000  107440.000000  107440.000000  107440.000000  \nmean        0.758257       0.892582       0.531307       0.533045  \nstd         0.301799       0.309646       0.393140       0.390920  \nmin         0.000000       0.000000       0.000673       0.000000  \n25%         0.627907       1.000000       0.140262       0.144426  \n50%         0.854123       1.000000       0.499495       0.501580  \n75%         1.000000       1.000000       0.964009       0.963406  \nmax         1.000000       1.000000       1.000000       0.998071  \n\n[8 rows x 24 columns]",
      "text/html": "<div>\n<style scoped>\n    .dataframe tbody tr th:only-of-type {\n        vertical-align: middle;\n    }\n\n    .dataframe tbody tr th {\n        vertical-align: top;\n    }\n\n    .dataframe thead th {\n        text-align: right;\n    }\n</style>\n<table border=\"1\" class=\"dataframe\">\n  <thead>\n    <tr style=\"text-align: right;\">\n      <th></th>\n      <th>setting_1</th>\n      <th>setting_2</th>\n      <th>setting_3</th>\n      <th>s_1</th>\n      <th>s_2</th>\n      <th>s_3</th>\n      <th>s_4</th>\n      <th>s_5</th>\n      <th>s_6</th>\n      <th>s_7</th>\n      <th>...</th>\n      <th>s_12</th>\n      <th>s_13</th>\n      <th>s_14</th>\n      <th>s_15</th>\n      <th>s_16</th>\n      <th>s_17</th>\n      <th>s_18</th>\n      <th>s_19</th>\n      <th>s_20</th>\n      <th>s_21</th>\n    </tr>\n  </thead>\n  <tbody>\n    <tr>\n      <th>count</th>\n      <td>107440.000000</td>\n      <td>107440.000000</td>\n      <td>107440.000000</td>\n      <td>107440.000000</td>\n      <td>107440.000000</td>\n      <td>107440.000000</td>\n      <td>107440.000000</td>\n      <td>107440.000000</td>\n      <td>107440.000000</td>\n      <td>107440.000000</td>\n      <td>...</td>\n      <td>107440.000000</td>\n      <td>107440.000000</td>\n      <td>107440.000000</td>\n      <td>107440.000000</td>\n      <td>107440.000000</td>\n      <td>107440.000000</td>\n      <td>107440.000000</td>\n      <td>107440.000000</td>\n      <td>107440.000000</td>\n      <td>107440.000000</td>\n    </tr>\n    <tr>\n      <th>mean</th>\n      <td>17.183885</td>\n      <td>0.409344</td>\n      <td>95.703276</td>\n      <td>0.554828</td>\n      <td>0.564675</td>\n      <td>0.599619</td>\n      <td>0.568005</td>\n      <td>0.559346</td>\n      <td>0.549723</td>\n      <td>0.514775</td>\n      <td>...</td>\n      <td>0.514814</td>\n      <td>0.886934</td>\n      <td>0.542770</td>\n      <td>0.308728</td>\n      <td>0.519090</td>\n      <td>0.599053</td>\n      <td>0.758257</td>\n      <td>0.892582</td>\n      <td>0.531307</td>\n      <td>0.533045</td>\n    </tr>\n    <tr>\n      <th>std</th>\n      <td>16.517058</td>\n      <td>0.367745</td>\n      <td>12.385820</td>\n      <td>0.412710</td>\n      <td>0.387518</td>\n      <td>0.315981</td>\n      <td>0.326430</td>\n      <td>0.398063</td>\n      <td>0.404095</td>\n      <td>0.400556</td>\n      <td>...</td>\n      <td>0.401192</td>\n      <td>0.306977</td>\n      <td>0.180357</td>\n      <td>0.258682</td>\n      <td>0.499638</td>\n      <td>0.316753</td>\n      <td>0.301799</td>\n      <td>0.309646</td>\n      <td>0.393140</td>\n      <td>0.390920</td>\n    </tr>\n    <tr>\n      <th>min</th>\n      <td>-0.008700</td>\n      <td>-0.000600</td>\n      <td>60.000000</td>\n      <td>0.000000</td>\n      <td>0.000000</td>\n      <td>0.000000</td>\n      <td>0.000000</td>\n      <td>0.000000</td>\n      <td>0.000000</td>\n      <td>0.000598</td>\n      <td>...</td>\n      <td>0.000000</td>\n      <td>0.000000</td>\n      <td>0.000000</td>\n      <td>0.000000</td>\n      <td>0.000000</td>\n      <td>0.000000</td>\n      <td>0.000000</td>\n      <td>0.000000</td>\n      <td>0.000673</td>\n      <td>0.000000</td>\n    </tr>\n    <tr>\n      <th>25%</th>\n      <td>0.001300</td>\n      <td>0.000200</td>\n      <td>100.000000</td>\n      <td>0.060269</td>\n      <td>0.132081</td>\n      <td>0.306461</td>\n      <td>0.246648</td>\n      <td>0.146592</td>\n      <td>0.146173</td>\n      <td>0.090972</td>\n      <td>...</td>\n      <td>0.089178</td>\n      <td>0.993056</td>\n      <td>0.501585</td>\n      <td>0.097231</td>\n      <td>0.000000</td>\n      <td>0.306122</td>\n      <td>0.627907</td>\n      <td>1.000000</td>\n      <td>0.140262</td>\n      <td>0.144426</td>\n    </tr>\n    <tr>\n      <th>50%</th>\n      <td>19.998000</td>\n      <td>0.620000</td>\n      <td>100.000000</td>\n      <td>0.597937</td>\n      <td>0.642342</td>\n      <td>0.668715</td>\n      <td>0.600689</td>\n      <td>0.507937</td>\n      <td>0.501255</td>\n      <td>0.476521</td>\n      <td>...</td>\n      <td>0.476428</td>\n      <td>0.993332</td>\n      <td>0.609390</td>\n      <td>0.290713</td>\n      <td>1.000000</td>\n      <td>0.663265</td>\n      <td>0.854123</td>\n      <td>1.000000</td>\n      <td>0.499495</td>\n      <td>0.501580</td>\n    </tr>\n    <tr>\n      <th>75%</th>\n      <td>35.001500</td>\n      <td>0.840000</td>\n      <td>100.000000</td>\n      <td>1.000000</td>\n      <td>0.974824</td>\n      <td>0.919089</td>\n      <td>0.905966</td>\n      <td>1.000000</td>\n      <td>1.000000</td>\n      <td>0.959691</td>\n      <td>...</td>\n      <td>0.960531</td>\n      <td>0.993580</td>\n      <td>0.655534</td>\n      <td>0.408095</td>\n      <td>1.000000</td>\n      <td>0.918367</td>\n      <td>1.000000</td>\n      <td>1.000000</td>\n      <td>0.964009</td>\n      <td>0.963406</td>\n    </tr>\n    <tr>\n      <th>max</th>\n      <td>42.008000</td>\n      <td>0.842000</td>\n      <td>100.000000</td>\n      <td>1.000000</td>\n      <td>1.000000</td>\n      <td>1.000000</td>\n      <td>0.998276</td>\n      <td>1.000000</td>\n      <td>1.000000</td>\n      <td>1.000000</td>\n      <td>...</td>\n      <td>1.000000</td>\n      <td>0.999972</td>\n      <td>1.000000</td>\n      <td>0.999794</td>\n      <td>1.000000</td>\n      <td>1.000000</td>\n      <td>1.000000</td>\n      <td>1.000000</td>\n      <td>1.000000</td>\n      <td>0.998071</td>\n    </tr>\n  </tbody>\n</table>\n<p>8 rows × 24 columns</p>\n</div>"
     },
     "execution_count": 78,
     "metadata": {},
     "output_type": "execute_result"
    }
   ],
   "source": [
    "X_train.describe()"
   ],
   "metadata": {
    "collapsed": false,
    "ExecuteTime": {
     "end_time": "2023-09-05T09:22:14.974709Z",
     "start_time": "2023-09-05T09:22:14.881343Z"
    }
   },
   "id": "c733c37de74ad96f"
  },
  {
   "cell_type": "code",
   "execution_count": 79,
   "outputs": [
    {
     "name": "stdout",
     "output_type": "stream",
     "text": [
      "<class 'pandas.core.frame.DataFrame'>\n",
      "Int64Index: 107440 entries, 118165 to 140451\n",
      "Data columns (total 24 columns):\n",
      " #   Column     Non-Null Count   Dtype  \n",
      "---  ------     --------------   -----  \n",
      " 0   setting_1  107440 non-null  float64\n",
      " 1   setting_2  107440 non-null  float64\n",
      " 2   setting_3  107440 non-null  float64\n",
      " 3   s_1        107440 non-null  float64\n",
      " 4   s_2        107440 non-null  float64\n",
      " 5   s_3        107440 non-null  float64\n",
      " 6   s_4        107440 non-null  float64\n",
      " 7   s_5        107440 non-null  float64\n",
      " 8   s_6        107440 non-null  float64\n",
      " 9   s_7        107440 non-null  float64\n",
      " 10  s_8        107440 non-null  float64\n",
      " 11  s_9        107440 non-null  float64\n",
      " 12  s_10       107440 non-null  float64\n",
      " 13  s_11       107440 non-null  float64\n",
      " 14  s_12       107440 non-null  float64\n",
      " 15  s_13       107440 non-null  float64\n",
      " 16  s_14       107440 non-null  float64\n",
      " 17  s_15       107440 non-null  float64\n",
      " 18  s_16       107440 non-null  float64\n",
      " 19  s_17       107440 non-null  float64\n",
      " 20  s_18       107440 non-null  float64\n",
      " 21  s_19       107440 non-null  float64\n",
      " 22  s_20       107440 non-null  float64\n",
      " 23  s_21       107440 non-null  float64\n",
      "dtypes: float64(24)\n",
      "memory usage: 20.5 MB\n"
     ]
    }
   ],
   "source": [
    "X_train.info() "
   ],
   "metadata": {
    "collapsed": false,
    "ExecuteTime": {
     "end_time": "2023-09-05T09:22:14.981392Z",
     "start_time": "2023-09-05T09:22:14.971375Z"
    }
   },
   "id": "373ca5d658672431"
  },
  {
   "cell_type": "code",
   "execution_count": 80,
   "outputs": [
    {
     "name": "stdout",
     "output_type": "stream",
     "text": [
      "roc score for train dataset:  0.9999720796005096\n",
      "Acc Score for train dataset:  0.9999906924795234\n",
      "Precision Score for train dataset:  0.9999962430025924\n",
      "Recall Score for train dataset:  0.9999478487614081\n",
      "f1 score for train dataset:  0.9999720424642234\n",
      "roc score for validate dataset:  0.6463693310980491\n",
      "Acc Score for validate dataset:  0.6036773181654982\n",
      "Precision Score for validate dataset:  0.5247786642591854\n",
      "Recall Score for validate dataset:  0.42270235423591707\n",
      "f1 score for validate dataset:  0.39684373109773063\n"
     ]
    }
   ],
   "source": [
    "evaluation(rf, X_train, y_train, set='train')\n",
    "evaluation(rf, X_validate, y_validate, set='validate')"
   ],
   "metadata": {
    "collapsed": false,
    "ExecuteTime": {
     "end_time": "2023-09-05T09:22:18.270750Z",
     "start_time": "2023-09-05T09:22:14.979331Z"
    }
   },
   "id": "df8a3629db76f6c1"
  },
  {
   "cell_type": "code",
   "execution_count": 12,
   "outputs": [
    {
     "data": {
      "text/plain": "      Expected Output  Predicted Output\n6804                2                 2\n6805                1                 2\n6806                0                 0\n6807                0                 0\n6808                0                 0",
      "text/html": "<div>\n<style scoped>\n    .dataframe tbody tr th:only-of-type {\n        vertical-align: middle;\n    }\n\n    .dataframe tbody tr th {\n        vertical-align: top;\n    }\n\n    .dataframe thead th {\n        text-align: right;\n    }\n</style>\n<table border=\"1\" class=\"dataframe\">\n  <thead>\n    <tr style=\"text-align: right;\">\n      <th></th>\n      <th>Expected Output</th>\n      <th>Predicted Output</th>\n    </tr>\n  </thead>\n  <tbody>\n    <tr>\n      <th>6804</th>\n      <td>2</td>\n      <td>2</td>\n    </tr>\n    <tr>\n      <th>6805</th>\n      <td>1</td>\n      <td>2</td>\n    </tr>\n    <tr>\n      <th>6806</th>\n      <td>0</td>\n      <td>0</td>\n    </tr>\n    <tr>\n      <th>6807</th>\n      <td>0</td>\n      <td>0</td>\n    </tr>\n    <tr>\n      <th>6808</th>\n      <td>0</td>\n      <td>0</td>\n    </tr>\n  </tbody>\n</table>\n</div>"
     },
     "execution_count": 12,
     "metadata": {},
     "output_type": "execute_result"
    }
   ],
   "source": [
    "# Final Results in the form of dataset\n",
    "output = pd.DataFrame()\n",
    "output['Expected Output'] = y_validate\n",
    "output['Predicted Output'] = rf.predict(X_validate)\n",
    "output.tail()"
   ],
   "metadata": {
    "collapsed": false,
    "ExecuteTime": {
     "end_time": "2023-09-05T07:46:43.946223Z",
     "start_time": "2023-09-05T07:46:43.798156Z"
    }
   },
   "id": "518a92077983caba"
  },
  {
   "cell_type": "code",
   "execution_count": 13,
   "outputs": [
    {
     "data": {
      "text/plain": "array([[0.26, 0.29, 0.01, 0.44],\n       [0.  , 0.  , 1.  , 0.  ],\n       [0.63, 0.02, 0.  , 0.35],\n       ...,\n       [0.68, 0.07, 0.  , 0.25],\n       [0.48, 0.13, 0.  , 0.39],\n       [0.46, 0.2 , 0.  , 0.34]])"
     },
     "execution_count": 13,
     "metadata": {},
     "output_type": "execute_result"
    }
   ],
   "source": [
    "rf.predict_proba(X_validate)"
   ],
   "metadata": {
    "collapsed": false,
    "ExecuteTime": {
     "end_time": "2023-09-05T07:46:44.106876Z",
     "start_time": "2023-09-05T07:46:43.947506Z"
    }
   },
   "id": "1f6c739ac224995f"
  },
  {
   "cell_type": "code",
   "execution_count": 14,
   "outputs": [
    {
     "data": {
      "text/plain": "['my_random_forest.joblib']"
     },
     "execution_count": 14,
     "metadata": {},
     "output_type": "execute_result"
    }
   ],
   "source": [
    "import joblib\n",
    "\n",
    "joblib.dump(rf, \"my_random_forest.joblib\")"
   ],
   "metadata": {
    "collapsed": false,
    "ExecuteTime": {
     "end_time": "2023-09-05T07:46:50.722792Z",
     "start_time": "2023-09-05T07:46:50.677760Z"
    }
   },
   "id": "3d2828042f546465"
  },
  {
   "cell_type": "code",
   "execution_count": null,
   "outputs": [],
   "source": [],
   "metadata": {
    "collapsed": false
   },
   "id": "ee269db93134ac61"
  }
 ],
 "metadata": {
  "kernelspec": {
   "display_name": "Python 3",
   "language": "python",
   "name": "python3"
  },
  "language_info": {
   "codemirror_mode": {
    "name": "ipython",
    "version": 2
   },
   "file_extension": ".py",
   "mimetype": "text/x-python",
   "name": "python",
   "nbconvert_exporter": "python",
   "pygments_lexer": "ipython2",
   "version": "2.7.6"
  }
 },
 "nbformat": 4,
 "nbformat_minor": 5
}
