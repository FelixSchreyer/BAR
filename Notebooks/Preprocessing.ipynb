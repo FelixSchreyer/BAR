{
 "cells": [
  {
   "cell_type": "code",
   "execution_count": 106,
   "id": "initial_id",
   "metadata": {
    "collapsed": true,
    "ExecuteTime": {
     "end_time": "2023-09-20T14:02:07.758490Z",
     "start_time": "2023-09-20T14:02:07.756275Z"
    }
   },
   "outputs": [],
   "source": [
    "import tsfresh\n",
    "%matplotlib inline\n",
    "import pandas as pd\n",
    "import os"
   ]
  },
  {
   "cell_type": "markdown",
   "source": [
    "# Load Data\n",
    "1) Determine Column names. In total there are 2 columns regarding index ('unit_nr') and time ('time_cycles'). There are three different setting values ('setting_1', 'setting_2' and 'setting_3'). Finally, there are 22 different sensors, each having their own column. \n",
    "2) Given the path to the data directory and the names of the files, the data is loaded into a single dataframe. The index column 'unit_nr' is adapted to also consider that units are from different files. "
   ],
   "metadata": {
    "collapsed": false
   },
   "id": "de0fa4d55e171fae"
  },
  {
   "cell_type": "code",
   "execution_count": 107,
   "outputs": [],
   "source": [
    "index_names = ['unit_nr', 'time_cycles']\n",
    "setting_names = ['setting_1', 'setting_2', 'setting_3']\n",
    "sensor_names = ['s_{}'.format(i) for i in range(1,22)]\n",
    "col_names = index_names + setting_names + sensor_names"
   ],
   "metadata": {
    "collapsed": false,
    "ExecuteTime": {
     "end_time": "2023-09-20T14:02:09.046339Z",
     "start_time": "2023-09-20T14:02:09.044306Z"
    }
   },
   "id": "8590330c42d18af4"
  },
  {
   "cell_type": "code",
   "execution_count": 108,
   "outputs": [],
   "source": [
    "directory = '../Data.nosync+/'\n",
    "#TODO: Select files\n",
    "#files = ['train_FD001.txt', 'train_FD002.txt', 'train_FD003.txt', 'train_FD004.txt']\n",
    "files = ['test_FD001.txt', 'test_FD002.txt', 'test_FD003.txt', 'test_FD004.txt']\n",
    "\n",
    "dataframes = []\n",
    "\n",
    "for index, data in enumerate(files):\n",
    "    file_path = os.path.join(directory, data)\n",
    "    df = pd.read_csv(file_path, sep='\\s+', header=None, names=col_names)\n",
    "    df['unit_nr']=df['unit_nr'].apply(lambda x: str(index) + '_' + str(x))\n",
    "    dataframes.append(df)\n",
    "\n",
    "train = pd.concat(dataframes, ignore_index=True)\n",
    "id_mapping = {id: str(idx + 1) for idx, id in enumerate(train['unit_nr'].unique())}\n",
    "\n",
    "# Map the 'id' column using the mapping\n",
    "train['unit_nr'] = train['unit_nr'].map(id_mapping)\n",
    "train['unit_nr'] = pd.to_numeric(train['unit_nr'], errors='coerce')"
   ],
   "metadata": {
    "collapsed": false,
    "ExecuteTime": {
     "end_time": "2023-09-20T14:02:13.132454Z",
     "start_time": "2023-09-20T14:02:12.827243Z"
    }
   },
   "id": "b953c40fc68265b1"
  },
  {
   "cell_type": "markdown",
   "source": [
    "# Preprocessing"
   ],
   "metadata": {
    "collapsed": false
   },
   "id": "91b0ebd76da2e89a"
  },
  {
   "cell_type": "code",
   "execution_count": 109,
   "outputs": [],
   "source": [
    "def add_remaining_useful_life(df):\n",
    "    '''\n",
    "    Calculates the RUL of a dataframe and returns the dataframe with an added RUL column\n",
    "    :param df: Dataframe for which RUL is to be calculated\n",
    "    :return: df with RUL-column\n",
    "    '''\n",
    "    grouped_by_unit = df.groupby(by = \"unit_nr\")\n",
    "    max_cycle = grouped_by_unit[\"time_cycles\"].max()\n",
    "    result_frame = df.merge(max_cycle.to_frame(name='max_cycle'), left_on='unit_nr', right_index=True)\n",
    "    remaining_useful_life = result_frame['max_cycle'] - result_frame['time_cycles']\n",
    "    result_frame[\"RUL\"] = remaining_useful_life\n",
    "    result_frame = result_frame.drop(\"max_cycle\", axis = 1)\n",
    "    \n",
    "    return result_frame"
   ],
   "metadata": {
    "collapsed": false,
    "ExecuteTime": {
     "end_time": "2023-09-20T14:02:15.187109Z",
     "start_time": "2023-09-20T14:02:15.185534Z"
    }
   },
   "id": "aa966a8aa3d54994"
  },
  {
   "cell_type": "markdown",
   "source": [
    "## Normalization"
   ],
   "metadata": {
    "collapsed": false
   },
   "id": "4860eb22dcd3bd2c"
  },
  {
   "cell_type": "code",
   "execution_count": 110,
   "outputs": [],
   "source": [
    "from sklearn.preprocessing import MinMaxScaler\n",
    "\n",
    "scaler = MinMaxScaler()\n",
    "columns_to_scale = ['s_2', 's_3', 's_4', 's_7', 's_8', 's_9', 's_11', 's_12', 's_13', 's_15', 's_17', 's_20', 's_21', 's_1', 's_5', 's_6', 's_10', 's_14', 's_16', 's_18', 's_19']\n",
    "for column in columns_to_scale:\n",
    "    train[column] = scaler.fit_transform(train[[column]])"
   ],
   "metadata": {
    "collapsed": false,
    "ExecuteTime": {
     "end_time": "2023-09-20T14:02:16.611417Z",
     "start_time": "2023-09-20T14:02:16.426825Z"
    }
   },
   "id": "44d1d4ae7ea3f5ba"
  },
  {
   "cell_type": "markdown",
   "source": [
    "## Deal with NA values"
   ],
   "metadata": {
    "collapsed": false
   },
   "id": "c692929a03aeba51"
  },
  {
   "cell_type": "code",
   "execution_count": 111,
   "outputs": [
    {
     "name": "stdout",
     "output_type": "stream",
     "text": [
      "(104897, 26) There are no NA values:  True\n"
     ]
    }
   ],
   "source": [
    "train = train.fillna(method='ffill')\n",
    "print(train.shape, \"There are no NA values: \", (train.isna().sum()==0).all())"
   ],
   "metadata": {
    "collapsed": false,
    "ExecuteTime": {
     "end_time": "2023-09-20T14:02:16.969764Z",
     "start_time": "2023-09-20T14:02:16.952303Z"
    }
   },
   "id": "ba4f8a7d49dfeea8"
  },
  {
   "cell_type": "code",
   "execution_count": 112,
   "outputs": [],
   "source": [
    "cols_to_drop = ['setting_3', 's_1', 's_5', 's_6', 's_10', 's_14', 's_16', 's_18', 's_19']\n",
    "train = train.drop(cols_to_drop, axis=1)"
   ],
   "metadata": {
    "collapsed": false,
    "ExecuteTime": {
     "end_time": "2023-09-20T14:02:17.525993Z",
     "start_time": "2023-09-20T14:02:17.518711Z"
    }
   },
   "id": "e66db6669f1f3833"
  },
  {
   "cell_type": "markdown",
   "source": [
    "# Roll Dataset"
   ],
   "metadata": {
    "collapsed": false
   },
   "id": "8c82e1ed1282d32f"
  },
  {
   "cell_type": "code",
   "execution_count": 113,
   "outputs": [
    {
     "name": "stderr",
     "output_type": "stream",
     "text": [
      "Rolling: 100%|██████████| 13/13 [00:03<00:00,  3.52it/s]\n"
     ]
    }
   ],
   "source": [
    "from tsfresh.utilities.dataframe_functions import roll_time_series\n",
    "df_rolled = roll_time_series(train, column_id=\"unit_nr\", column_sort=\"time_cycles\", min_timeshift=10, max_timeshift=90, rolling_direction=40)"
   ],
   "metadata": {
    "collapsed": false,
    "ExecuteTime": {
     "end_time": "2023-09-20T14:02:24.816473Z",
     "start_time": "2023-09-20T14:02:20.837555Z"
    }
   },
   "id": "a1f89aeb9751b424"
  },
  {
   "cell_type": "code",
   "execution_count": 114,
   "outputs": [
    {
     "data": {
      "text/plain": "        unit_nr  time_cycles  setting_1  setting_2       s_2       s_3  \\\n59969         2            1    -0.0009     0.0004  0.984758  0.944705   \n59970         2            2    -0.0011     0.0002  0.983381  0.942346   \n59971         2            3     0.0002     0.0003  0.984024  0.961790   \n59972         2            4     0.0025     0.0001  0.981544  0.928786   \n59973         2            5     0.0004    -0.0004  0.985768  0.933125   \n...         ...          ...        ...        ...       ...       ...   \n155689      707          242     0.0025     0.0000  0.985952  0.928515   \n155690      707          243    25.0072     0.6200  0.013589  0.067363   \n155691      707          244    42.0027     0.8400  0.130934  0.328922   \n155692      707          245     0.0028     0.0000  0.989349  0.966644   \n155693      707          246    10.0030     0.2500  0.638325  0.694753   \n\n             s_4       s_7       s_8       s_9      s_11      s_12      s_13  \\\n59969   0.934119  0.962989  0.999050  0.883095  0.930612  0.963315  0.994975   \n59970   0.929989  0.963889  0.998987  0.894473  0.932245  0.964294  0.994810   \n59971   0.943160  0.963450  0.999113  0.880051  0.932245  0.962507  0.994810   \n59972   0.936733  0.965321  0.999134  0.888847  0.929796  0.963192  0.994755   \n59973   0.935194  0.964928  0.999113  0.886248  0.933878  0.963241  0.994893   \n...          ...       ...       ...       ...       ...       ...       ...   \n155689  0.958433  0.963727  0.999092  0.910464  0.951020  0.962531  0.994810   \n155690  0.067299  0.089562  0.001267  0.027855  0.062857  0.087770  0.001960   \n155691  0.237940  0.006534  0.627531  0.297110  0.502041  0.004971  0.995196   \n155692  0.943014  0.964489  0.998965  0.912870  0.943673  0.962507  0.994837   \n155693  0.706857  0.595830  0.853225  0.682976  0.777143  0.595019  0.995113   \n\n            s_15      s_17      s_20      s_21          id  \n59969   0.081321  0.937500  0.974636  0.974202     (2, 46)  \n59970   0.085946  0.947917  0.969226  0.968443     (2, 46)  \n59971   0.064407  0.958333  0.975313  0.974998     (2, 46)  \n59972   0.083404  0.947917  0.968549  0.978580     (2, 46)  \n59973   0.080049  0.937500  0.968211  0.974045     (2, 46)  \n...          ...       ...       ...       ...         ...  \n155689  0.093326  0.947917  0.960771  0.970248  (707, 246)  \n155690  0.956886  0.041667  0.135610  0.139712  (707, 246)  \n155691  0.409675  0.312500  0.015556  0.016597  (707, 246)  \n155692  0.086758  0.947917  0.965506  0.972403  (707, 246)  \n155693  0.173799  0.708333  0.621238  0.627417  (707, 246)  \n\n[163338 rows x 18 columns]",
      "text/html": "<div>\n<style scoped>\n    .dataframe tbody tr th:only-of-type {\n        vertical-align: middle;\n    }\n\n    .dataframe tbody tr th {\n        vertical-align: top;\n    }\n\n    .dataframe thead th {\n        text-align: right;\n    }\n</style>\n<table border=\"1\" class=\"dataframe\">\n  <thead>\n    <tr style=\"text-align: right;\">\n      <th></th>\n      <th>unit_nr</th>\n      <th>time_cycles</th>\n      <th>setting_1</th>\n      <th>setting_2</th>\n      <th>s_2</th>\n      <th>s_3</th>\n      <th>s_4</th>\n      <th>s_7</th>\n      <th>s_8</th>\n      <th>s_9</th>\n      <th>s_11</th>\n      <th>s_12</th>\n      <th>s_13</th>\n      <th>s_15</th>\n      <th>s_17</th>\n      <th>s_20</th>\n      <th>s_21</th>\n      <th>id</th>\n    </tr>\n  </thead>\n  <tbody>\n    <tr>\n      <th>59969</th>\n      <td>2</td>\n      <td>1</td>\n      <td>-0.0009</td>\n      <td>0.0004</td>\n      <td>0.984758</td>\n      <td>0.944705</td>\n      <td>0.934119</td>\n      <td>0.962989</td>\n      <td>0.999050</td>\n      <td>0.883095</td>\n      <td>0.930612</td>\n      <td>0.963315</td>\n      <td>0.994975</td>\n      <td>0.081321</td>\n      <td>0.937500</td>\n      <td>0.974636</td>\n      <td>0.974202</td>\n      <td>(2, 46)</td>\n    </tr>\n    <tr>\n      <th>59970</th>\n      <td>2</td>\n      <td>2</td>\n      <td>-0.0011</td>\n      <td>0.0002</td>\n      <td>0.983381</td>\n      <td>0.942346</td>\n      <td>0.929989</td>\n      <td>0.963889</td>\n      <td>0.998987</td>\n      <td>0.894473</td>\n      <td>0.932245</td>\n      <td>0.964294</td>\n      <td>0.994810</td>\n      <td>0.085946</td>\n      <td>0.947917</td>\n      <td>0.969226</td>\n      <td>0.968443</td>\n      <td>(2, 46)</td>\n    </tr>\n    <tr>\n      <th>59971</th>\n      <td>2</td>\n      <td>3</td>\n      <td>0.0002</td>\n      <td>0.0003</td>\n      <td>0.984024</td>\n      <td>0.961790</td>\n      <td>0.943160</td>\n      <td>0.963450</td>\n      <td>0.999113</td>\n      <td>0.880051</td>\n      <td>0.932245</td>\n      <td>0.962507</td>\n      <td>0.994810</td>\n      <td>0.064407</td>\n      <td>0.958333</td>\n      <td>0.975313</td>\n      <td>0.974998</td>\n      <td>(2, 46)</td>\n    </tr>\n    <tr>\n      <th>59972</th>\n      <td>2</td>\n      <td>4</td>\n      <td>0.0025</td>\n      <td>0.0001</td>\n      <td>0.981544</td>\n      <td>0.928786</td>\n      <td>0.936733</td>\n      <td>0.965321</td>\n      <td>0.999134</td>\n      <td>0.888847</td>\n      <td>0.929796</td>\n      <td>0.963192</td>\n      <td>0.994755</td>\n      <td>0.083404</td>\n      <td>0.947917</td>\n      <td>0.968549</td>\n      <td>0.978580</td>\n      <td>(2, 46)</td>\n    </tr>\n    <tr>\n      <th>59973</th>\n      <td>2</td>\n      <td>5</td>\n      <td>0.0004</td>\n      <td>-0.0004</td>\n      <td>0.985768</td>\n      <td>0.933125</td>\n      <td>0.935194</td>\n      <td>0.964928</td>\n      <td>0.999113</td>\n      <td>0.886248</td>\n      <td>0.933878</td>\n      <td>0.963241</td>\n      <td>0.994893</td>\n      <td>0.080049</td>\n      <td>0.937500</td>\n      <td>0.968211</td>\n      <td>0.974045</td>\n      <td>(2, 46)</td>\n    </tr>\n    <tr>\n      <th>...</th>\n      <td>...</td>\n      <td>...</td>\n      <td>...</td>\n      <td>...</td>\n      <td>...</td>\n      <td>...</td>\n      <td>...</td>\n      <td>...</td>\n      <td>...</td>\n      <td>...</td>\n      <td>...</td>\n      <td>...</td>\n      <td>...</td>\n      <td>...</td>\n      <td>...</td>\n      <td>...</td>\n      <td>...</td>\n      <td>...</td>\n    </tr>\n    <tr>\n      <th>155689</th>\n      <td>707</td>\n      <td>242</td>\n      <td>0.0025</td>\n      <td>0.0000</td>\n      <td>0.985952</td>\n      <td>0.928515</td>\n      <td>0.958433</td>\n      <td>0.963727</td>\n      <td>0.999092</td>\n      <td>0.910464</td>\n      <td>0.951020</td>\n      <td>0.962531</td>\n      <td>0.994810</td>\n      <td>0.093326</td>\n      <td>0.947917</td>\n      <td>0.960771</td>\n      <td>0.970248</td>\n      <td>(707, 246)</td>\n    </tr>\n    <tr>\n      <th>155690</th>\n      <td>707</td>\n      <td>243</td>\n      <td>25.0072</td>\n      <td>0.6200</td>\n      <td>0.013589</td>\n      <td>0.067363</td>\n      <td>0.067299</td>\n      <td>0.089562</td>\n      <td>0.001267</td>\n      <td>0.027855</td>\n      <td>0.062857</td>\n      <td>0.087770</td>\n      <td>0.001960</td>\n      <td>0.956886</td>\n      <td>0.041667</td>\n      <td>0.135610</td>\n      <td>0.139712</td>\n      <td>(707, 246)</td>\n    </tr>\n    <tr>\n      <th>155691</th>\n      <td>707</td>\n      <td>244</td>\n      <td>42.0027</td>\n      <td>0.8400</td>\n      <td>0.130934</td>\n      <td>0.328922</td>\n      <td>0.237940</td>\n      <td>0.006534</td>\n      <td>0.627531</td>\n      <td>0.297110</td>\n      <td>0.502041</td>\n      <td>0.004971</td>\n      <td>0.995196</td>\n      <td>0.409675</td>\n      <td>0.312500</td>\n      <td>0.015556</td>\n      <td>0.016597</td>\n      <td>(707, 246)</td>\n    </tr>\n    <tr>\n      <th>155692</th>\n      <td>707</td>\n      <td>245</td>\n      <td>0.0028</td>\n      <td>0.0000</td>\n      <td>0.989349</td>\n      <td>0.966644</td>\n      <td>0.943014</td>\n      <td>0.964489</td>\n      <td>0.998965</td>\n      <td>0.912870</td>\n      <td>0.943673</td>\n      <td>0.962507</td>\n      <td>0.994837</td>\n      <td>0.086758</td>\n      <td>0.947917</td>\n      <td>0.965506</td>\n      <td>0.972403</td>\n      <td>(707, 246)</td>\n    </tr>\n    <tr>\n      <th>155693</th>\n      <td>707</td>\n      <td>246</td>\n      <td>10.0030</td>\n      <td>0.2500</td>\n      <td>0.638325</td>\n      <td>0.694753</td>\n      <td>0.706857</td>\n      <td>0.595830</td>\n      <td>0.853225</td>\n      <td>0.682976</td>\n      <td>0.777143</td>\n      <td>0.595019</td>\n      <td>0.995113</td>\n      <td>0.173799</td>\n      <td>0.708333</td>\n      <td>0.621238</td>\n      <td>0.627417</td>\n      <td>(707, 246)</td>\n    </tr>\n  </tbody>\n</table>\n<p>163338 rows × 18 columns</p>\n</div>"
     },
     "execution_count": 114,
     "metadata": {},
     "output_type": "execute_result"
    }
   ],
   "source": [
    "df_rolled"
   ],
   "metadata": {
    "collapsed": false,
    "ExecuteTime": {
     "end_time": "2023-09-20T14:02:24.930120Z",
     "start_time": "2023-09-20T14:02:24.925925Z"
    }
   },
   "id": "2a79b71c4d551092"
  },
  {
   "cell_type": "markdown",
   "source": [
    "## Add RUL"
   ],
   "metadata": {
    "collapsed": false
   },
   "id": "37e2bf2db22ba896"
  },
  {
   "cell_type": "code",
   "execution_count": 115,
   "outputs": [],
   "source": [
    "import numpy as np\n",
    "\n",
    "\n",
    "def add_max_rul(df):\n",
    "    helper = df.groupby(by = \"unit_nr\")[\"RUL\"].transform(\"max\")\n",
    "    df[\"RUL_max\"] = helper\n",
    "    return df\n",
    "\n",
    "def create_rul_perc(df):\n",
    "    df[\"RUL_perc\"] = df[\"RUL\"]/df[\"RUL_max\"]\n",
    "    df[\"RUL_perc_2\"] = df.groupby(by = \"id\")[\"RUL_perc\"].transform(\"min\")\n",
    "    #df['RUL_perc'] = np.where(df['RUL'] == 0, 0, df['RUL'] / df['RUL_max'])\n",
    "    return df\n",
    "\n",
    "def create_rul_class(df):\n",
    "    df[\"Class\"] = pd.cut(x=df[\"RUL_perc_2\"], bins=[-1, 0.1, \n",
    "                                                      0.3, \n",
    "                                                      0.5, \n",
    "                                                      1], labels=[0,1,2,3])\n",
    "    return df"
   ],
   "metadata": {
    "collapsed": false,
    "ExecuteTime": {
     "end_time": "2023-09-20T14:02:28.599702Z",
     "start_time": "2023-09-20T14:02:28.597675Z"
    }
   },
   "id": "27dd4dc4914198c8"
  },
  {
   "cell_type": "code",
   "execution_count": 116,
   "outputs": [],
   "source": [
    "import math\n",
    "\n",
    "df_rolled = add_remaining_useful_life(df_rolled)\n",
    "df_rolled = add_max_rul(df_rolled)\n",
    "df_rolled = create_rul_perc(df_rolled)\n",
    "df_rolled = create_rul_class(df_rolled)\n",
    "#df_rolled = df_rolled.drop(columns=[\"RUL_max\", \"RUL_perc\"])"
   ],
   "metadata": {
    "collapsed": false,
    "ExecuteTime": {
     "end_time": "2023-09-20T14:02:29.405249Z",
     "start_time": "2023-09-20T14:02:29.354498Z"
    }
   },
   "id": "49c6862bcc201ba4"
  },
  {
   "cell_type": "code",
   "execution_count": 117,
   "outputs": [],
   "source": [
    "#df_rolled[\"Class\"] = pd.cut(x=df_rolled[\"RUL\"], bins=[-1, math.floor(0.1*max(df_rolled[\"RUL\"])), math.floor(0.3*max(df_rolled[\"RUL\"])), math.floor(0.5*max(df_rolled[\"RUL\"])), max(df_rolled[\"RUL\"])], labels=[0,1,2,3])\n",
    "\n",
    "#grouped_by_unit = df_rolled.groupby(by = \"id\")\n",
    "#max_RUL = grouped_by_unit[\"RUL\"].min()\n",
    "#result_frame = df_rolled.merge(max_RUL.to_frame(name='max_RUL'), left_on='id', right_index=True)\n",
    "\n",
    "#result_frame"
   ],
   "metadata": {
    "collapsed": false,
    "ExecuteTime": {
     "end_time": "2023-09-20T14:02:29.992324Z",
     "start_time": "2023-09-20T14:02:29.991135Z"
    }
   },
   "id": "684b694626689196"
  },
  {
   "cell_type": "code",
   "execution_count": 118,
   "outputs": [],
   "source": [
    "#result_frame[\"Class\"] = pd.cut(x=result_frame[\"max_RUL\"], bins=[-1, math.floor(0.1*max(df_rolled[\"RUL\"])), math.floor(0.3*max(df_rolled[\"RUL\"])), math.floor(0.5*max(df_rolled[\"RUL\"])), max(df_rolled[\"RUL\"])], labels=[0,1,2,3])\n",
    "\n",
    "#result_frame.head(100)"
   ],
   "metadata": {
    "collapsed": false,
    "ExecuteTime": {
     "end_time": "2023-09-20T14:02:30.122264Z",
     "start_time": "2023-09-20T14:02:30.094918Z"
    }
   },
   "id": "c58038e74b6255b4"
  },
  {
   "cell_type": "code",
   "execution_count": 119,
   "outputs": [],
   "source": [
    "#df_rolled = result_frame\n",
    "#df_rolled[\"RUL\"] = df_rolled[\"max_RUL\"]\n",
    "#df_rolled = df_rolled.drop(columns=[\"max_RUL\"])"
   ],
   "metadata": {
    "collapsed": false,
    "ExecuteTime": {
     "end_time": "2023-09-20T14:02:30.776576Z",
     "start_time": "2023-09-20T14:02:30.774932Z"
    }
   },
   "id": "cc4c1cbef3b14e2e"
  },
  {
   "cell_type": "code",
   "execution_count": 120,
   "outputs": [
    {
     "data": {
      "text/plain": "        unit_nr  time_cycles  setting_1  setting_2       s_2       s_3  \\\n59969         2            1    -0.0009     0.0004  0.984758  0.944705   \n59970         2            2    -0.0011     0.0002  0.983381  0.942346   \n59971         2            3     0.0002     0.0003  0.984024  0.961790   \n59972         2            4     0.0025     0.0001  0.981544  0.928786   \n59973         2            5     0.0004    -0.0004  0.985768  0.933125   \n...         ...          ...        ...        ...       ...       ...   \n155689      707          242     0.0025     0.0000  0.985952  0.928515   \n155690      707          243    25.0072     0.6200  0.013589  0.067363   \n155691      707          244    42.0027     0.8400  0.130934  0.328922   \n155692      707          245     0.0028     0.0000  0.989349  0.966644   \n155693      707          246    10.0030     0.2500  0.638325  0.694753   \n\n             s_4       s_7       s_8       s_9  ...      s_15      s_17  \\\n59969   0.934119  0.962989  0.999050  0.883095  ...  0.081321  0.937500   \n59970   0.929989  0.963889  0.998987  0.894473  ...  0.085946  0.947917   \n59971   0.943160  0.963450  0.999113  0.880051  ...  0.064407  0.958333   \n59972   0.936733  0.965321  0.999134  0.888847  ...  0.083404  0.947917   \n59973   0.935194  0.964928  0.999113  0.886248  ...  0.080049  0.937500   \n...          ...       ...       ...       ...  ...       ...       ...   \n155689  0.958433  0.963727  0.999092  0.910464  ...  0.093326  0.947917   \n155690  0.067299  0.089562  0.001267  0.027855  ...  0.956886  0.041667   \n155691  0.237940  0.006534  0.627531  0.297110  ...  0.409675  0.312500   \n155692  0.943014  0.964489  0.998965  0.912870  ...  0.086758  0.947917   \n155693  0.706857  0.595830  0.853225  0.682976  ...  0.173799  0.708333   \n\n            s_20      s_21          id  RUL  RUL_max  RUL_perc  RUL_perc_2  \\\n59969   0.974636  0.974202     (2, 46)   45       45  1.000000         0.0   \n59970   0.969226  0.968443     (2, 46)   44       45  0.977778         0.0   \n59971   0.975313  0.974998     (2, 46)   43       45  0.955556         0.0   \n59972   0.968549  0.978580     (2, 46)   42       45  0.933333         0.0   \n59973   0.968211  0.974045     (2, 46)   41       45  0.911111         0.0   \n...          ...       ...         ...  ...      ...       ...         ...   \n155689  0.960771  0.970248  (707, 246)    4      245  0.016327         0.0   \n155690  0.135610  0.139712  (707, 246)    3      245  0.012245         0.0   \n155691  0.015556  0.016597  (707, 246)    2      245  0.008163         0.0   \n155692  0.965506  0.972403  (707, 246)    1      245  0.004082         0.0   \n155693  0.621238  0.627417  (707, 246)    0      245  0.000000         0.0   \n\n        Class  \n59969       0  \n59970       0  \n59971       0  \n59972       0  \n59973       0  \n...       ...  \n155689      0  \n155690      0  \n155691      0  \n155692      0  \n155693      0  \n\n[163338 rows x 23 columns]",
      "text/html": "<div>\n<style scoped>\n    .dataframe tbody tr th:only-of-type {\n        vertical-align: middle;\n    }\n\n    .dataframe tbody tr th {\n        vertical-align: top;\n    }\n\n    .dataframe thead th {\n        text-align: right;\n    }\n</style>\n<table border=\"1\" class=\"dataframe\">\n  <thead>\n    <tr style=\"text-align: right;\">\n      <th></th>\n      <th>unit_nr</th>\n      <th>time_cycles</th>\n      <th>setting_1</th>\n      <th>setting_2</th>\n      <th>s_2</th>\n      <th>s_3</th>\n      <th>s_4</th>\n      <th>s_7</th>\n      <th>s_8</th>\n      <th>s_9</th>\n      <th>...</th>\n      <th>s_15</th>\n      <th>s_17</th>\n      <th>s_20</th>\n      <th>s_21</th>\n      <th>id</th>\n      <th>RUL</th>\n      <th>RUL_max</th>\n      <th>RUL_perc</th>\n      <th>RUL_perc_2</th>\n      <th>Class</th>\n    </tr>\n  </thead>\n  <tbody>\n    <tr>\n      <th>59969</th>\n      <td>2</td>\n      <td>1</td>\n      <td>-0.0009</td>\n      <td>0.0004</td>\n      <td>0.984758</td>\n      <td>0.944705</td>\n      <td>0.934119</td>\n      <td>0.962989</td>\n      <td>0.999050</td>\n      <td>0.883095</td>\n      <td>...</td>\n      <td>0.081321</td>\n      <td>0.937500</td>\n      <td>0.974636</td>\n      <td>0.974202</td>\n      <td>(2, 46)</td>\n      <td>45</td>\n      <td>45</td>\n      <td>1.000000</td>\n      <td>0.0</td>\n      <td>0</td>\n    </tr>\n    <tr>\n      <th>59970</th>\n      <td>2</td>\n      <td>2</td>\n      <td>-0.0011</td>\n      <td>0.0002</td>\n      <td>0.983381</td>\n      <td>0.942346</td>\n      <td>0.929989</td>\n      <td>0.963889</td>\n      <td>0.998987</td>\n      <td>0.894473</td>\n      <td>...</td>\n      <td>0.085946</td>\n      <td>0.947917</td>\n      <td>0.969226</td>\n      <td>0.968443</td>\n      <td>(2, 46)</td>\n      <td>44</td>\n      <td>45</td>\n      <td>0.977778</td>\n      <td>0.0</td>\n      <td>0</td>\n    </tr>\n    <tr>\n      <th>59971</th>\n      <td>2</td>\n      <td>3</td>\n      <td>0.0002</td>\n      <td>0.0003</td>\n      <td>0.984024</td>\n      <td>0.961790</td>\n      <td>0.943160</td>\n      <td>0.963450</td>\n      <td>0.999113</td>\n      <td>0.880051</td>\n      <td>...</td>\n      <td>0.064407</td>\n      <td>0.958333</td>\n      <td>0.975313</td>\n      <td>0.974998</td>\n      <td>(2, 46)</td>\n      <td>43</td>\n      <td>45</td>\n      <td>0.955556</td>\n      <td>0.0</td>\n      <td>0</td>\n    </tr>\n    <tr>\n      <th>59972</th>\n      <td>2</td>\n      <td>4</td>\n      <td>0.0025</td>\n      <td>0.0001</td>\n      <td>0.981544</td>\n      <td>0.928786</td>\n      <td>0.936733</td>\n      <td>0.965321</td>\n      <td>0.999134</td>\n      <td>0.888847</td>\n      <td>...</td>\n      <td>0.083404</td>\n      <td>0.947917</td>\n      <td>0.968549</td>\n      <td>0.978580</td>\n      <td>(2, 46)</td>\n      <td>42</td>\n      <td>45</td>\n      <td>0.933333</td>\n      <td>0.0</td>\n      <td>0</td>\n    </tr>\n    <tr>\n      <th>59973</th>\n      <td>2</td>\n      <td>5</td>\n      <td>0.0004</td>\n      <td>-0.0004</td>\n      <td>0.985768</td>\n      <td>0.933125</td>\n      <td>0.935194</td>\n      <td>0.964928</td>\n      <td>0.999113</td>\n      <td>0.886248</td>\n      <td>...</td>\n      <td>0.080049</td>\n      <td>0.937500</td>\n      <td>0.968211</td>\n      <td>0.974045</td>\n      <td>(2, 46)</td>\n      <td>41</td>\n      <td>45</td>\n      <td>0.911111</td>\n      <td>0.0</td>\n      <td>0</td>\n    </tr>\n    <tr>\n      <th>...</th>\n      <td>...</td>\n      <td>...</td>\n      <td>...</td>\n      <td>...</td>\n      <td>...</td>\n      <td>...</td>\n      <td>...</td>\n      <td>...</td>\n      <td>...</td>\n      <td>...</td>\n      <td>...</td>\n      <td>...</td>\n      <td>...</td>\n      <td>...</td>\n      <td>...</td>\n      <td>...</td>\n      <td>...</td>\n      <td>...</td>\n      <td>...</td>\n      <td>...</td>\n      <td>...</td>\n    </tr>\n    <tr>\n      <th>155689</th>\n      <td>707</td>\n      <td>242</td>\n      <td>0.0025</td>\n      <td>0.0000</td>\n      <td>0.985952</td>\n      <td>0.928515</td>\n      <td>0.958433</td>\n      <td>0.963727</td>\n      <td>0.999092</td>\n      <td>0.910464</td>\n      <td>...</td>\n      <td>0.093326</td>\n      <td>0.947917</td>\n      <td>0.960771</td>\n      <td>0.970248</td>\n      <td>(707, 246)</td>\n      <td>4</td>\n      <td>245</td>\n      <td>0.016327</td>\n      <td>0.0</td>\n      <td>0</td>\n    </tr>\n    <tr>\n      <th>155690</th>\n      <td>707</td>\n      <td>243</td>\n      <td>25.0072</td>\n      <td>0.6200</td>\n      <td>0.013589</td>\n      <td>0.067363</td>\n      <td>0.067299</td>\n      <td>0.089562</td>\n      <td>0.001267</td>\n      <td>0.027855</td>\n      <td>...</td>\n      <td>0.956886</td>\n      <td>0.041667</td>\n      <td>0.135610</td>\n      <td>0.139712</td>\n      <td>(707, 246)</td>\n      <td>3</td>\n      <td>245</td>\n      <td>0.012245</td>\n      <td>0.0</td>\n      <td>0</td>\n    </tr>\n    <tr>\n      <th>155691</th>\n      <td>707</td>\n      <td>244</td>\n      <td>42.0027</td>\n      <td>0.8400</td>\n      <td>0.130934</td>\n      <td>0.328922</td>\n      <td>0.237940</td>\n      <td>0.006534</td>\n      <td>0.627531</td>\n      <td>0.297110</td>\n      <td>...</td>\n      <td>0.409675</td>\n      <td>0.312500</td>\n      <td>0.015556</td>\n      <td>0.016597</td>\n      <td>(707, 246)</td>\n      <td>2</td>\n      <td>245</td>\n      <td>0.008163</td>\n      <td>0.0</td>\n      <td>0</td>\n    </tr>\n    <tr>\n      <th>155692</th>\n      <td>707</td>\n      <td>245</td>\n      <td>0.0028</td>\n      <td>0.0000</td>\n      <td>0.989349</td>\n      <td>0.966644</td>\n      <td>0.943014</td>\n      <td>0.964489</td>\n      <td>0.998965</td>\n      <td>0.912870</td>\n      <td>...</td>\n      <td>0.086758</td>\n      <td>0.947917</td>\n      <td>0.965506</td>\n      <td>0.972403</td>\n      <td>(707, 246)</td>\n      <td>1</td>\n      <td>245</td>\n      <td>0.004082</td>\n      <td>0.0</td>\n      <td>0</td>\n    </tr>\n    <tr>\n      <th>155693</th>\n      <td>707</td>\n      <td>246</td>\n      <td>10.0030</td>\n      <td>0.2500</td>\n      <td>0.638325</td>\n      <td>0.694753</td>\n      <td>0.706857</td>\n      <td>0.595830</td>\n      <td>0.853225</td>\n      <td>0.682976</td>\n      <td>...</td>\n      <td>0.173799</td>\n      <td>0.708333</td>\n      <td>0.621238</td>\n      <td>0.627417</td>\n      <td>(707, 246)</td>\n      <td>0</td>\n      <td>245</td>\n      <td>0.000000</td>\n      <td>0.0</td>\n      <td>0</td>\n    </tr>\n  </tbody>\n</table>\n<p>163338 rows × 23 columns</p>\n</div>"
     },
     "execution_count": 120,
     "metadata": {},
     "output_type": "execute_result"
    }
   ],
   "source": [
    "df_rolled"
   ],
   "metadata": {
    "collapsed": false,
    "ExecuteTime": {
     "end_time": "2023-09-20T14:02:31.174291Z",
     "start_time": "2023-09-20T14:02:31.150421Z"
    }
   },
   "id": "f17ce559ec1331d1"
  },
  {
   "cell_type": "code",
   "execution_count": 121,
   "outputs": [
    {
     "data": {
      "text/plain": "<Figure size 1000x600 with 1 Axes>",
      "image/png": "[encoded data removed]"
     },
     "metadata": {},
     "output_type": "display_data"
    }
   ],
   "source": [
    "import matplotlib.pyplot as plt\n",
    "# distribution of RUL, similar to the 'describe function' of time_cycles above, but visual\n",
    "df_max_rul = df_rolled[['unit_nr', 'Class']]\n",
    "df_max_rul['Class'].hist(bins=15, figsize=(10,6))\n",
    "plt.xlabel('Class')\n",
    "plt.ylabel('frequency')\n",
    "plt.show()"
   ],
   "metadata": {
    "collapsed": false,
    "ExecuteTime": {
     "end_time": "2023-09-20T14:02:32.862066Z",
     "start_time": "2023-09-20T14:02:32.571340Z"
    }
   },
   "id": "aedbff876fffad1"
  },
  {
   "cell_type": "markdown",
   "source": [
    "# Create Features"
   ],
   "metadata": {
    "collapsed": false
   },
   "id": "7798f0229f33b94e"
  },
  {
   "cell_type": "code",
   "execution_count": 122,
   "outputs": [],
   "source": [
    "from tsfresh import extract_features\n",
    "#id_mapping = {id: str(idx + 1) for idx, id in enumerate(train['unit_nr'].unique())}\n",
    "\n",
    "# Map the 'id' column using the mapping\n",
    "#train['unit_nr'] = train['unit_nr'].map(id_mapping)\n",
    "#train['unit_nr'] = pd.to_numeric(train['unit_nr'], errors='coerce')\n",
    "y = df_rolled[\"Class\"]\n",
    "y_distinct = df_rolled.groupby('id')['Class'].first()\n",
    "\n",
    "y = df_rolled.set_index('id')['Class']\n",
    "X = df_rolled.drop(columns=[\"RUL\", \"Class\", \"setting_1\", \"setting_2\"])"
   ],
   "metadata": {
    "collapsed": false,
    "ExecuteTime": {
     "end_time": "2023-09-20T14:02:33.392630Z",
     "start_time": "2023-09-20T14:02:33.320811Z"
    }
   },
   "id": "7afda41f2eabb4d3"
  },
  {
   "cell_type": "code",
   "execution_count": 123,
   "outputs": [
    {
     "data": {
      "text/plain": "id\n(2, 46)       0\n(3, 46)       3\n(3, 86)       2\n(3, 126)      0\n(4, 46)       2\n             ..\n(707, 86)     3\n(707, 126)    2\n(707, 166)    2\n(707, 206)    1\n(707, 246)    0\nName: Class, Length: 2153, dtype: category\nCategories (4, int64): [0 < 1 < 2 < 3]"
     },
     "execution_count": 123,
     "metadata": {},
     "output_type": "execute_result"
    }
   ],
   "source": [
    "y_distinct"
   ],
   "metadata": {
    "collapsed": false,
    "ExecuteTime": {
     "end_time": "2023-09-20T14:02:34.058918Z",
     "start_time": "2023-09-20T14:02:34.056220Z"
    }
   },
   "id": "ae98bd8057f3ead9"
  },
  {
   "cell_type": "code",
   "execution_count": 124,
   "outputs": [
    {
     "name": "stdout",
     "output_type": "stream",
     "text": [
      "(2153,) There are no NA values:  True\n"
     ]
    }
   ],
   "source": [
    "print(y_distinct.shape, \"There are no NA values: \", (y_distinct.isna().sum()==0).all())"
   ],
   "metadata": {
    "collapsed": false,
    "ExecuteTime": {
     "end_time": "2023-09-20T14:02:35.255356Z",
     "start_time": "2023-09-20T14:02:35.250043Z"
    }
   },
   "id": "e4f28562b50fe566"
  },
  {
   "cell_type": "code",
   "execution_count": 125,
   "outputs": [
    {
     "data": {
      "text/plain": "unit_nr          int64\ntime_cycles      int64\ns_2            float64\ns_3            float64\ns_4            float64\ns_7            float64\ns_8            float64\ns_9            float64\ns_11           float64\ns_12           float64\ns_13           float64\ns_15           float64\ns_17           float64\ns_20           float64\ns_21           float64\nid              object\nRUL_max          int64\nRUL_perc       float64\nRUL_perc_2     float64\ndtype: object"
     },
     "execution_count": 125,
     "metadata": {},
     "output_type": "execute_result"
    }
   ],
   "source": [
    "X.dtypes"
   ],
   "metadata": {
    "collapsed": false,
    "ExecuteTime": {
     "end_time": "2023-09-20T14:02:35.450706Z",
     "start_time": "2023-09-20T14:02:35.438721Z"
    }
   },
   "id": "e672318f97f0226c"
  },
  {
   "cell_type": "code",
   "execution_count": 126,
   "outputs": [
    {
     "name": "stderr",
     "output_type": "stream",
     "text": [
      "Feature Extraction: 100%|██████████| 20/20 [00:06<00:00,  2.88it/s]\n"
     ]
    }
   ],
   "source": [
    "from tsfresh.feature_selection.relevance import calculate_relevance_table\n",
    "from tsfresh import extract_relevant_features\n",
    "from tsfresh.utilities.dataframe_functions import impute\n",
    "from tsfresh.feature_extraction import MinimalFCParameters\n",
    "\n",
    "# TODO: select how to extract features\n",
    "X_rel = pd.read_parquet('turbofan_features.parquet', engine='pyarrow')\n",
    "kind_to_fc_parameters = tsfresh.feature_extraction.settings.from_columns(X_rel)\n",
    "X_rel = extract_features(X, column_id='id', column_sort='time_cycles', kind_to_fc_parameters=kind_to_fc_parameters)\n",
    "\n",
    "#X_rel = extract_relevant_features(X, y=y_distinct, ml_task='classification', column_id='id', column_sort='time_cycles',default_fc_parameters=MinimalFCParameters() ,fdr_level=0.001)"
   ],
   "metadata": {
    "collapsed": false,
    "ExecuteTime": {
     "end_time": "2023-09-20T14:02:52.426864Z",
     "start_time": "2023-09-20T14:02:45.209166Z"
    }
   },
   "id": "172651e776e16620"
  },
  {
   "cell_type": "code",
   "execution_count": 127,
   "outputs": [
    {
     "data": {
      "text/plain": "0"
     },
     "execution_count": 127,
     "metadata": {},
     "output_type": "execute_result"
    }
   ],
   "source": [
    " X_rel.isna().sum().sum()\n"
   ],
   "metadata": {
    "collapsed": false,
    "ExecuteTime": {
     "end_time": "2023-09-20T14:02:52.520050Z",
     "start_time": "2023-09-20T14:02:52.516558Z"
    }
   },
   "id": "db7196a3c6f03e65"
  },
  {
   "cell_type": "code",
   "execution_count": 128,
   "outputs": [
    {
     "data": {
      "text/plain": "       unit_nr__length  unit_nr__sum_values  s_2__length  s_2__sum_values  \\\ncount      2153.000000          2153.000000  2153.000000      2153.000000   \nmean         75.865304         28976.011147    75.865304        42.886977   \nstd          20.048280         17903.851469    20.048280        23.393872   \nmin          46.000000            92.000000    46.000000        12.735286   \n25%          46.000000         13662.000000    46.000000        31.003214   \n50%          86.000000         27002.000000    86.000000        36.332201   \n75%          91.000000         44204.000000    91.000000        45.089248   \nmax          91.000000         64337.000000    91.000000        89.886145   \n\n       s_2__maximum  s_2__absolute_maximum  s_2__median  \\\ncount   2153.000000            2153.000000  2153.000000   \nmean       0.986738               0.986738     0.465583   \nstd        0.003177               0.003177     0.353301   \nmin        0.978147               0.978147     0.128317   \n25%        0.984483               0.984483     0.183822   \n50%        0.986686               0.986686     0.188321   \n75%        0.988890               0.988890     0.978606   \nmax        0.999816               0.999816     0.988064   \n\n       s_2__standard_deviation  s_2__variance  s_2__root_mean_square  ...  \\\ncount              2153.000000    2153.000000            2153.000000  ...   \nmean                  0.243371       0.082464               0.655809  ...   \nstd                   0.152464       0.052905               0.207649  ...   \nmin                   0.001873       0.000004               0.388360  ...   \n25%                   0.003126       0.000010               0.512074  ...   \n50%                   0.331318       0.109772               0.544174  ...   \n75%                   0.345202       0.119165               0.978706  ...   \nmax                   0.397787       0.158234               0.987765  ...   \n\n       RUL_perc_2__minimum  RUL_perc_2__absolute_maximum  RUL_perc_2__median  \\\ncount          2153.000000                   2153.000000         2153.000000   \nmean              0.335427                      0.335427            0.335427   \nstd               0.278908                      0.278908            0.278908   \nmin               0.000000                      0.000000            0.000000   \n25%               0.000000                      0.000000            0.000000   \n50%               0.320000                      0.320000            0.320000   \n75%               0.585366                      0.585366            0.585366   \nmax               0.907216                      0.907216            0.907216   \n\n       RUL_perc_2__maximum  RUL_perc_2__root_mean_square  \\\ncount          2153.000000                   2153.000000   \nmean              0.335427                      0.335427   \nstd               0.278908                      0.278908   \nmin               0.000000                      0.000000   \n25%               0.000000                      0.000000   \n50%               0.320000                      0.320000   \n75%               0.585366                      0.585366   \nmax               0.907216                      0.907216   \n\n       RUL_perc_2__variance  RUL_perc_2__standard_deviation  \\\ncount          2.153000e+03                    2.153000e+03   \nmean           8.417199e-33                    4.994199e-17   \nstd            2.110700e-32                    7.697889e-17   \nmin            0.000000e+00                    0.000000e+00   \n25%            0.000000e+00                    0.000000e+00   \n50%            0.000000e+00                    0.000000e+00   \n75%            1.232595e-32                    1.110223e-16   \nmax            1.972152e-31                    4.440892e-16   \n\n       RUL_perc_2__length  RUL_perc_2__mean  RUL_perc_2__sum_values  \ncount         2153.000000       2153.000000             2153.000000  \nmean            75.865304          0.335427               22.607298  \nstd             20.048280          0.278908               17.992512  \nmin             46.000000          0.000000                0.000000  \n25%             46.000000          0.000000                0.000000  \n50%             86.000000          0.320000               25.543860  \n75%             91.000000          0.585366               35.512195  \nmax             91.000000          0.907216               70.927835  \n\n[8 rows x 137 columns]",
      "text/html": "<div>\n<style scoped>\n    .dataframe tbody tr th:only-of-type {\n        vertical-align: middle;\n    }\n\n    .dataframe tbody tr th {\n        vertical-align: top;\n    }\n\n    .dataframe thead th {\n        text-align: right;\n    }\n</style>\n<table border=\"1\" class=\"dataframe\">\n  <thead>\n    <tr style=\"text-align: right;\">\n      <th></th>\n      <th>unit_nr__length</th>\n      <th>unit_nr__sum_values</th>\n      <th>s_2__length</th>\n      <th>s_2__sum_values</th>\n      <th>s_2__maximum</th>\n      <th>s_2__absolute_maximum</th>\n      <th>s_2__median</th>\n      <th>s_2__standard_deviation</th>\n      <th>s_2__variance</th>\n      <th>s_2__root_mean_square</th>\n      <th>...</th>\n      <th>RUL_perc_2__minimum</th>\n      <th>RUL_perc_2__absolute_maximum</th>\n      <th>RUL_perc_2__median</th>\n      <th>RUL_perc_2__maximum</th>\n      <th>RUL_perc_2__root_mean_square</th>\n      <th>RUL_perc_2__variance</th>\n      <th>RUL_perc_2__standard_deviation</th>\n      <th>RUL_perc_2__length</th>\n      <th>RUL_perc_2__mean</th>\n      <th>RUL_perc_2__sum_values</th>\n    </tr>\n  </thead>\n  <tbody>\n    <tr>\n      <th>count</th>\n      <td>2153.000000</td>\n      <td>2153.000000</td>\n      <td>2153.000000</td>\n      <td>2153.000000</td>\n      <td>2153.000000</td>\n      <td>2153.000000</td>\n      <td>2153.000000</td>\n      <td>2153.000000</td>\n      <td>2153.000000</td>\n      <td>2153.000000</td>\n      <td>...</td>\n      <td>2153.000000</td>\n      <td>2153.000000</td>\n      <td>2153.000000</td>\n      <td>2153.000000</td>\n      <td>2153.000000</td>\n      <td>2.153000e+03</td>\n      <td>2.153000e+03</td>\n      <td>2153.000000</td>\n      <td>2153.000000</td>\n      <td>2153.000000</td>\n    </tr>\n    <tr>\n      <th>mean</th>\n      <td>75.865304</td>\n      <td>28976.011147</td>\n      <td>75.865304</td>\n      <td>42.886977</td>\n      <td>0.986738</td>\n      <td>0.986738</td>\n      <td>0.465583</td>\n      <td>0.243371</td>\n      <td>0.082464</td>\n      <td>0.655809</td>\n      <td>...</td>\n      <td>0.335427</td>\n      <td>0.335427</td>\n      <td>0.335427</td>\n      <td>0.335427</td>\n      <td>0.335427</td>\n      <td>8.417199e-33</td>\n      <td>4.994199e-17</td>\n      <td>75.865304</td>\n      <td>0.335427</td>\n      <td>22.607298</td>\n    </tr>\n    <tr>\n      <th>std</th>\n      <td>20.048280</td>\n      <td>17903.851469</td>\n      <td>20.048280</td>\n      <td>23.393872</td>\n      <td>0.003177</td>\n      <td>0.003177</td>\n      <td>0.353301</td>\n      <td>0.152464</td>\n      <td>0.052905</td>\n      <td>0.207649</td>\n      <td>...</td>\n      <td>0.278908</td>\n      <td>0.278908</td>\n      <td>0.278908</td>\n      <td>0.278908</td>\n      <td>0.278908</td>\n      <td>2.110700e-32</td>\n      <td>7.697889e-17</td>\n      <td>20.048280</td>\n      <td>0.278908</td>\n      <td>17.992512</td>\n    </tr>\n    <tr>\n      <th>min</th>\n      <td>46.000000</td>\n      <td>92.000000</td>\n      <td>46.000000</td>\n      <td>12.735286</td>\n      <td>0.978147</td>\n      <td>0.978147</td>\n      <td>0.128317</td>\n      <td>0.001873</td>\n      <td>0.000004</td>\n      <td>0.388360</td>\n      <td>...</td>\n      <td>0.000000</td>\n      <td>0.000000</td>\n      <td>0.000000</td>\n      <td>0.000000</td>\n      <td>0.000000</td>\n      <td>0.000000e+00</td>\n      <td>0.000000e+00</td>\n      <td>46.000000</td>\n      <td>0.000000</td>\n      <td>0.000000</td>\n    </tr>\n    <tr>\n      <th>25%</th>\n      <td>46.000000</td>\n      <td>13662.000000</td>\n      <td>46.000000</td>\n      <td>31.003214</td>\n      <td>0.984483</td>\n      <td>0.984483</td>\n      <td>0.183822</td>\n      <td>0.003126</td>\n      <td>0.000010</td>\n      <td>0.512074</td>\n      <td>...</td>\n      <td>0.000000</td>\n      <td>0.000000</td>\n      <td>0.000000</td>\n      <td>0.000000</td>\n      <td>0.000000</td>\n      <td>0.000000e+00</td>\n      <td>0.000000e+00</td>\n      <td>46.000000</td>\n      <td>0.000000</td>\n      <td>0.000000</td>\n    </tr>\n    <tr>\n      <th>50%</th>\n      <td>86.000000</td>\n      <td>27002.000000</td>\n      <td>86.000000</td>\n      <td>36.332201</td>\n      <td>0.986686</td>\n      <td>0.986686</td>\n      <td>0.188321</td>\n      <td>0.331318</td>\n      <td>0.109772</td>\n      <td>0.544174</td>\n      <td>...</td>\n      <td>0.320000</td>\n      <td>0.320000</td>\n      <td>0.320000</td>\n      <td>0.320000</td>\n      <td>0.320000</td>\n      <td>0.000000e+00</td>\n      <td>0.000000e+00</td>\n      <td>86.000000</td>\n      <td>0.320000</td>\n      <td>25.543860</td>\n    </tr>\n    <tr>\n      <th>75%</th>\n      <td>91.000000</td>\n      <td>44204.000000</td>\n      <td>91.000000</td>\n      <td>45.089248</td>\n      <td>0.988890</td>\n      <td>0.988890</td>\n      <td>0.978606</td>\n      <td>0.345202</td>\n      <td>0.119165</td>\n      <td>0.978706</td>\n      <td>...</td>\n      <td>0.585366</td>\n      <td>0.585366</td>\n      <td>0.585366</td>\n      <td>0.585366</td>\n      <td>0.585366</td>\n      <td>1.232595e-32</td>\n      <td>1.110223e-16</td>\n      <td>91.000000</td>\n      <td>0.585366</td>\n      <td>35.512195</td>\n    </tr>\n    <tr>\n      <th>max</th>\n      <td>91.000000</td>\n      <td>64337.000000</td>\n      <td>91.000000</td>\n      <td>89.886145</td>\n      <td>0.999816</td>\n      <td>0.999816</td>\n      <td>0.988064</td>\n      <td>0.397787</td>\n      <td>0.158234</td>\n      <td>0.987765</td>\n      <td>...</td>\n      <td>0.907216</td>\n      <td>0.907216</td>\n      <td>0.907216</td>\n      <td>0.907216</td>\n      <td>0.907216</td>\n      <td>1.972152e-31</td>\n      <td>4.440892e-16</td>\n      <td>91.000000</td>\n      <td>0.907216</td>\n      <td>70.927835</td>\n    </tr>\n  </tbody>\n</table>\n<p>8 rows × 137 columns</p>\n</div>"
     },
     "execution_count": 128,
     "metadata": {},
     "output_type": "execute_result"
    }
   ],
   "source": [
    "X_rel.describe()"
   ],
   "metadata": {
    "collapsed": false,
    "ExecuteTime": {
     "end_time": "2023-09-20T14:02:54.631587Z",
     "start_time": "2023-09-20T14:02:54.524504Z"
    }
   },
   "id": "78bc961fbcdc4435"
  },
  {
   "cell_type": "code",
   "execution_count": 129,
   "outputs": [],
   "source": [
    "# TODO: Add/Remove test to name\n",
    "X_rel.to_parquet('turbofan_features_test.parquet', engine='pyarrow')\n",
    "df = pd.DataFrame({'my_series': y_distinct})\n",
    "df.to_parquet('turbofan_RUL_test.parquet', engine='pyarrow')"
   ],
   "metadata": {
    "collapsed": false,
    "ExecuteTime": {
     "end_time": "2023-09-20T14:03:03.456107Z",
     "start_time": "2023-09-20T14:03:03.427597Z"
    }
   },
   "id": "a550ec5edba5b06f"
  },
  {
   "cell_type": "code",
   "execution_count": 130,
   "outputs": [
    {
     "data": {
      "text/plain": "0"
     },
     "execution_count": 130,
     "metadata": {},
     "output_type": "execute_result"
    }
   ],
   "source": [
    "y_distinct.min()"
   ],
   "metadata": {
    "collapsed": false,
    "ExecuteTime": {
     "end_time": "2023-09-20T14:03:04.468788Z",
     "start_time": "2023-09-20T14:03:04.445249Z"
    }
   },
   "id": "853c3131084b43ea"
  },
  {
   "cell_type": "code",
   "execution_count": 55,
   "outputs": [
    {
     "data": {
      "text/plain": "<Figure size 1000x600 with 1 Axes>",
      "image/png": "[encoded data removed]"
     },
     "metadata": {},
     "output_type": "display_data"
    }
   ],
   "source": [],
   "metadata": {
    "collapsed": false,
    "ExecuteTime": {
     "end_time": "2023-09-20T10:03:03.439511Z",
     "start_time": "2023-09-20T10:03:03.362194Z"
    }
   },
   "id": "455b40abca933921"
  },
  {
   "cell_type": "code",
   "execution_count": null,
   "outputs": [],
   "source": [],
   "metadata": {
    "collapsed": false
   },
   "id": "52ca76df6c94ec9b"
  }
 ],
 "metadata": {
  "kernelspec": {
   "display_name": "Python 3",
   "language": "python",
   "name": "python3"
  },
  "language_info": {
   "codemirror_mode": {
    "name": "ipython",
    "version": 2
   },
   "file_extension": ".py",
   "mimetype": "text/x-python",
   "name": "python",
   "nbconvert_exporter": "python",
   "pygments_lexer": "ipython2",
   "version": "2.7.6"
  }
 },
 "nbformat": 4,
 "nbformat_minor": 5
}
