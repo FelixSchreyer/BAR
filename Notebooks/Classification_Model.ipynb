{
 "cells": [
  {
   "cell_type": "code",
   "execution_count": 1,
   "id": "initial_id",
   "metadata": {
    "collapsed": true,
    "ExecuteTime": {
     "end_time": "2023-09-20T14:25:24.428257Z",
     "start_time": "2023-09-20T14:25:24.169418Z"
    }
   },
   "outputs": [],
   "source": [
    "from sklearn.ensemble import RandomForestClassifier\n",
    "import pandas as pd"
   ]
  },
  {
   "cell_type": "markdown",
   "source": [
    "# Load Dataframes"
   ],
   "metadata": {
    "collapsed": false
   },
   "id": "72f00777aea35eb0"
  },
  {
   "cell_type": "code",
   "execution_count": 2,
   "outputs": [],
   "source": [
    "loaded_df = pd.read_parquet('turbofan_features.parquet', engine='pyarrow')\n",
    "loaded_rul = pd.read_parquet('turbofan_RUL.parquet', engine='pyarrow')\n",
    "loaded_df_test = pd.read_parquet('turbofan_features_test.parquet', engine='pyarrow')\n",
    "loaded_rul_test = pd.read_parquet('turbofan_RUL_test.parquet', engine='pyarrow')"
   ],
   "metadata": {
    "collapsed": false,
    "ExecuteTime": {
     "end_time": "2023-09-20T14:25:24.490532Z",
     "start_time": "2023-09-20T14:25:24.429265Z"
    }
   },
   "id": "9ae97ad8169cddee"
  },
  {
   "cell_type": "code",
   "execution_count": 3,
   "outputs": [
    {
     "data": {
      "text/plain": "            my_series\nid                   \n[1, 23]             3\n[1, 63]             3\n[1, 103]            2\n[1, 143]            1\n[1, 183]            0\n...               ...\n[709, 63]           3\n[709, 103]          3\n[709, 143]          2\n[709, 183]          1\n[709, 223]          0\n\n[3983 rows x 1 columns]",
      "text/html": "<div>\n<style scoped>\n    .dataframe tbody tr th:only-of-type {\n        vertical-align: middle;\n    }\n\n    .dataframe tbody tr th {\n        vertical-align: top;\n    }\n\n    .dataframe thead th {\n        text-align: right;\n    }\n</style>\n<table border=\"1\" class=\"dataframe\">\n  <thead>\n    <tr style=\"text-align: right;\">\n      <th></th>\n      <th>my_series</th>\n    </tr>\n    <tr>\n      <th>id</th>\n      <th></th>\n    </tr>\n  </thead>\n  <tbody>\n    <tr>\n      <th>[1, 23]</th>\n      <td>3</td>\n    </tr>\n    <tr>\n      <th>[1, 63]</th>\n      <td>3</td>\n    </tr>\n    <tr>\n      <th>[1, 103]</th>\n      <td>2</td>\n    </tr>\n    <tr>\n      <th>[1, 143]</th>\n      <td>1</td>\n    </tr>\n    <tr>\n      <th>[1, 183]</th>\n      <td>0</td>\n    </tr>\n    <tr>\n      <th>...</th>\n      <td>...</td>\n    </tr>\n    <tr>\n      <th>[709, 63]</th>\n      <td>3</td>\n    </tr>\n    <tr>\n      <th>[709, 103]</th>\n      <td>3</td>\n    </tr>\n    <tr>\n      <th>[709, 143]</th>\n      <td>2</td>\n    </tr>\n    <tr>\n      <th>[709, 183]</th>\n      <td>1</td>\n    </tr>\n    <tr>\n      <th>[709, 223]</th>\n      <td>0</td>\n    </tr>\n  </tbody>\n</table>\n<p>3983 rows × 1 columns</p>\n</div>"
     },
     "execution_count": 3,
     "metadata": {},
     "output_type": "execute_result"
    }
   ],
   "source": [
    "loaded_rul"
   ],
   "metadata": {
    "collapsed": false,
    "ExecuteTime": {
     "end_time": "2023-09-20T14:25:24.509374Z",
     "start_time": "2023-09-20T14:25:24.493886Z"
    }
   },
   "id": "5a01d10f1ebd2736"
  },
  {
   "cell_type": "code",
   "execution_count": 4,
   "outputs": [
    {
     "data": {
      "text/plain": "0"
     },
     "execution_count": 4,
     "metadata": {},
     "output_type": "execute_result"
    }
   ],
   "source": [
    "loaded_df_test.isna().sum().sum()"
   ],
   "metadata": {
    "collapsed": false,
    "ExecuteTime": {
     "end_time": "2023-09-20T14:25:24.509599Z",
     "start_time": "2023-09-20T14:25:24.503716Z"
    }
   },
   "id": "1dbf6561210ab113"
  },
  {
   "cell_type": "markdown",
   "source": [
    "# Split in Training and Test Data"
   ],
   "metadata": {
    "collapsed": false
   },
   "id": "ccaff39a103d2797"
  },
  {
   "cell_type": "code",
   "execution_count": 5,
   "outputs": [
    {
     "name": "stdout",
     "output_type": "stream",
     "text": [
      "(3983, 137) (2153, 137)\n"
     ]
    }
   ],
   "source": [
    "from sklearn.preprocessing import LabelEncoder\n",
    "from sklearn.model_selection import train_test_split\n",
    "\n",
    "X_train, y_train = loaded_df, loaded_rul['my_series']\n",
    "X_validate, y_validate = loaded_df_test[loaded_df.columns], loaded_rul_test['my_series']\n",
    "#y_train = y_train.astype('object')\n",
    "#le = LabelEncoder()\n",
    "#y_train = le.fit_transform(y_train)\n",
    "print(X_train.shape, X_validate.shape)"
   ],
   "metadata": {
    "collapsed": false,
    "ExecuteTime": {
     "end_time": "2023-09-20T14:25:24.530211Z",
     "start_time": "2023-09-20T14:25:24.510070Z"
    }
   },
   "id": "1253379c1f3c1397"
  },
  {
   "cell_type": "markdown",
   "source": [
    "# Hyperparameter Optimization"
   ],
   "metadata": {
    "collapsed": false
   },
   "id": "290b7bffdabd56c4"
  },
  {
   "cell_type": "code",
   "execution_count": 6,
   "outputs": [
    {
     "name": "stdout",
     "output_type": "stream",
     "text": [
      "[0 1 2 3]\n",
      "[1.38106796 1.27171137 1.47956909 0.55135659]\n"
     ]
    }
   ],
   "source": [
    "from sklearn.utils import class_weight\n",
    "import numpy as np\n",
    "print(np.unique(y_train))\n",
    "# A array object that contains the weights for both classes\n",
    "class_weights = class_weight.compute_class_weight('balanced', classes=np.unique(y_train), y=y_train)# A dictionary object containing key-value pairs of both classes and # their weights\n",
    "class_weights_dict = {0: class_weights[0], 1: class_weights[1], 2: class_weights[2], 3: class_weights[3]}\n",
    "print(class_weights)\n",
    "#print(f”Our class weights:\\n{class_weights_dict}”)"
   ],
   "metadata": {
    "collapsed": false,
    "ExecuteTime": {
     "end_time": "2023-09-20T14:25:24.553721Z",
     "start_time": "2023-09-20T14:25:24.512987Z"
    }
   },
   "id": "ae7191bb96439131"
  },
  {
   "cell_type": "code",
   "execution_count": 7,
   "outputs": [],
   "source": [
    "from skopt.space import Categorical, Integer\n",
    "from skopt import BayesSearchCV\n",
    "import numpy as np\n",
    "np.int = int\n",
    "\n",
    "rf = RandomForestClassifier(class_weight=class_weights_dict)\n",
    "\n",
    "search_space = {\n",
    "        \"bootstrap\": Categorical([True, False]), # values for boostrap can be either True or False\n",
    "        \"max_depth\": Integer(1, 20), # values of max_depth are integers from 1 to 20\n",
    "        \"max_features\": Categorical(['sqrt','log2']), \n",
    "        \"min_samples_leaf\": Integer(3, 1000),\n",
    "        \"min_samples_split\": Integer(3, 1000),\n",
    "        \"n_estimators\": Integer(5, 900)\n",
    "    }\n",
    "\n",
    "rf_opt = BayesSearchCV(rf, search_space, n_iter=10, # specify how many iterations\n",
    "                                    scoring=\"accuracy\", n_jobs=-1, cv=5\n",
    "                                    )\n",
    "_ = rf_opt.fit(X_train, y_train) # callback=on_step will print score after each iteration"
   ],
   "metadata": {
    "collapsed": false,
    "ExecuteTime": {
     "end_time": "2023-09-20T14:25:56.113049Z",
     "start_time": "2023-09-20T14:25:24.520567Z"
    }
   },
   "id": "a0e8e33b144a4eb3"
  },
  {
   "cell_type": "code",
   "execution_count": 8,
   "outputs": [
    {
     "data": {
      "text/plain": "RandomForestClassifier(class_weight={0: 1.3810679611650485,\n                                     1: 1.2717113665389528,\n                                     2: 1.4795690936106984,\n                                     3: 0.5513565891472868},\n                       max_depth=7, min_samples_leaf=147, min_samples_split=459,\n                       n_estimators=300)",
      "text/html": "<style>#sk-container-id-1 {color: black;background-color: white;}#sk-container-id-1 pre{padding: 0;}#sk-container-id-1 div.sk-toggleable {background-color: white;}#sk-container-id-1 label.sk-toggleable__label {cursor: pointer;display: block;width: 100%;margin-bottom: 0;padding: 0.3em;box-sizing: border-box;text-align: center;}#sk-container-id-1 label.sk-toggleable__label-arrow:before {content: \"▸\";float: left;margin-right: 0.25em;color: #696969;}#sk-container-id-1 label.sk-toggleable__label-arrow:hover:before {color: black;}#sk-container-id-1 div.sk-estimator:hover label.sk-toggleable__label-arrow:before {color: black;}#sk-container-id-1 div.sk-toggleable__content {max-height: 0;max-width: 0;overflow: hidden;text-align: left;background-color: #f0f8ff;}#sk-container-id-1 div.sk-toggleable__content pre {margin: 0.2em;color: black;border-radius: 0.25em;background-color: #f0f8ff;}#sk-container-id-1 input.sk-toggleable__control:checked~div.sk-toggleable__content {max-height: 200px;max-width: 100%;overflow: auto;}#sk-container-id-1 input.sk-toggleable__control:checked~label.sk-toggleable__label-arrow:before {content: \"▾\";}#sk-container-id-1 div.sk-estimator input.sk-toggleable__control:checked~label.sk-toggleable__label {background-color: #d4ebff;}#sk-container-id-1 div.sk-label input.sk-toggleable__control:checked~label.sk-toggleable__label {background-color: #d4ebff;}#sk-container-id-1 input.sk-hidden--visually {border: 0;clip: rect(1px 1px 1px 1px);clip: rect(1px, 1px, 1px, 1px);height: 1px;margin: -1px;overflow: hidden;padding: 0;position: absolute;width: 1px;}#sk-container-id-1 div.sk-estimator {font-family: monospace;background-color: #f0f8ff;border: 1px dotted black;border-radius: 0.25em;box-sizing: border-box;margin-bottom: 0.5em;}#sk-container-id-1 div.sk-estimator:hover {background-color: #d4ebff;}#sk-container-id-1 div.sk-parallel-item::after {content: \"\";width: 100%;border-bottom: 1px solid gray;flex-grow: 1;}#sk-container-id-1 div.sk-label:hover label.sk-toggleable__label {background-color: #d4ebff;}#sk-container-id-1 div.sk-serial::before {content: \"\";position: absolute;border-left: 1px solid gray;box-sizing: border-box;top: 0;bottom: 0;left: 50%;z-index: 0;}#sk-container-id-1 div.sk-serial {display: flex;flex-direction: column;align-items: center;background-color: white;padding-right: 0.2em;padding-left: 0.2em;position: relative;}#sk-container-id-1 div.sk-item {position: relative;z-index: 1;}#sk-container-id-1 div.sk-parallel {display: flex;align-items: stretch;justify-content: center;background-color: white;position: relative;}#sk-container-id-1 div.sk-item::before, #sk-container-id-1 div.sk-parallel-item::before {content: \"\";position: absolute;border-left: 1px solid gray;box-sizing: border-box;top: 0;bottom: 0;left: 50%;z-index: -1;}#sk-container-id-1 div.sk-parallel-item {display: flex;flex-direction: column;z-index: 1;position: relative;background-color: white;}#sk-container-id-1 div.sk-parallel-item:first-child::after {align-self: flex-end;width: 50%;}#sk-container-id-1 div.sk-parallel-item:last-child::after {align-self: flex-start;width: 50%;}#sk-container-id-1 div.sk-parallel-item:only-child::after {width: 0;}#sk-container-id-1 div.sk-dashed-wrapped {border: 1px dashed gray;margin: 0 0.4em 0.5em 0.4em;box-sizing: border-box;padding-bottom: 0.4em;background-color: white;}#sk-container-id-1 div.sk-label label {font-family: monospace;font-weight: bold;display: inline-block;line-height: 1.2em;}#sk-container-id-1 div.sk-label-container {text-align: center;}#sk-container-id-1 div.sk-container {/* jupyter's `normalize.less` sets `[hidden] { display: none; }` but bootstrap.min.css set `[hidden] { display: none !important; }` so we also need the `!important` here to be able to override the default hidden behavior on the sphinx rendered scikit-learn.org. See: https://github.com/scikit-learn/scikit-learn/issues/21755 */display: inline-block !important;position: relative;}#sk-container-id-1 div.sk-text-repr-fallback {display: none;}</style><div id=\"sk-container-id-1\" class=\"sk-top-container\"><div class=\"sk-text-repr-fallback\"><pre>RandomForestClassifier(class_weight={0: 1.3810679611650485,\n                                     1: 1.2717113665389528,\n                                     2: 1.4795690936106984,\n                                     3: 0.5513565891472868},\n                       max_depth=7, min_samples_leaf=147, min_samples_split=459,\n                       n_estimators=300)</pre><b>In a Jupyter environment, please rerun this cell to show the HTML representation or trust the notebook. <br />On GitHub, the HTML representation is unable to render, please try loading this page with nbviewer.org.</b></div><div class=\"sk-container\" hidden><div class=\"sk-item\"><div class=\"sk-estimator sk-toggleable\"><input class=\"sk-toggleable__control sk-hidden--visually\" id=\"sk-estimator-id-1\" type=\"checkbox\" checked><label for=\"sk-estimator-id-1\" class=\"sk-toggleable__label sk-toggleable__label-arrow\">RandomForestClassifier</label><div class=\"sk-toggleable__content\"><pre>RandomForestClassifier(class_weight={0: 1.3810679611650485,\n                                     1: 1.2717113665389528,\n                                     2: 1.4795690936106984,\n                                     3: 0.5513565891472868},\n                       max_depth=7, min_samples_leaf=147, min_samples_split=459,\n                       n_estimators=300)</pre></div></div></div></div></div>"
     },
     "execution_count": 8,
     "metadata": {},
     "output_type": "execute_result"
    }
   ],
   "source": [
    "rf = _.best_estimator_\n",
    "rf"
   ],
   "metadata": {
    "collapsed": false,
    "ExecuteTime": {
     "end_time": "2023-09-20T14:25:56.130802Z",
     "start_time": "2023-09-20T14:25:56.113889Z"
    }
   },
   "id": "cdca3ed53686a9a9"
  },
  {
   "cell_type": "markdown",
   "source": [
    "# Evaluation"
   ],
   "metadata": {
    "collapsed": false
   },
   "id": "a2954fb30e6a62ba"
  },
  {
   "cell_type": "code",
   "execution_count": 9,
   "outputs": [],
   "source": [
    "from sklearn.metrics import roc_auc_score, accuracy_score, recall_score, precision_score, f1_score, multilabel_confusion_matrix\n",
    "from sklearn import preprocessing\n",
    "\n",
    "def evaluation(model, X, y, set=\"train\"):\n",
    "    y_hat = model.predict(X)\n",
    "    lb = preprocessing.LabelBinarizer()\n",
    "    y_lb = lb.fit_transform(y)\n",
    "    y_hat_lb = lb.transform(y_hat)\n",
    "    #confusion = multilabel_confusion_matrix(y_lb, y_hat_lb)\n",
    "    #confusion\n",
    "    print(f\"roc score for {set} dataset: \", roc_auc_score(y_lb, y_hat_lb, average='macro'))\n",
    "    print(f'Acc Score for {set} dataset: ', accuracy_score(y_lb, y_hat_lb))\n",
    "    print(f'Precision Score for {set} dataset: ', precision_score(y_lb, y_hat_lb, average='macro'))\n",
    "    print(f'Recall Score for {set} dataset: ', recall_score(y_lb, y_hat_lb, average='macro'))\n",
    "    print(f'f1 score for {set} dataset: ', f1_score(y_lb, y_hat_lb, average='macro'))    "
   ],
   "metadata": {
    "collapsed": false,
    "ExecuteTime": {
     "end_time": "2023-09-20T14:25:59.732625Z",
     "start_time": "2023-09-20T14:25:59.723365Z"
    }
   },
   "id": "b068fbce51f5921e"
  },
  {
   "cell_type": "code",
   "execution_count": 10,
   "outputs": [
    {
     "data": {
      "text/plain": "       RUL_perc_2__minimum  RUL_perc__length  RUL_perc__mean  \\\ncount          3983.000000       3983.000000     3983.000000   \nmean              0.446401         73.911373        0.620603   \nstd               0.309002         25.899934        0.258699   \nmin               0.000000         23.000000        0.083026   \n25%               0.180180         63.000000        0.382883   \n50%               0.439560         91.000000        0.686813   \n75%               0.720721         91.000000        0.860360   \nmax               0.959410         91.000000        0.979705   \n\n       RUL_perc__median  RUL_max__length  s_21__length  s_20__length  \\\ncount       3983.000000      3983.000000   3983.000000   3983.000000   \nmean           0.620603        73.911373     73.911373     73.911373   \nstd            0.258699        25.899934     25.899934     25.899934   \nmin            0.083026        23.000000     23.000000     23.000000   \n25%            0.382883        63.000000     63.000000     63.000000   \n50%            0.686813        91.000000     91.000000     91.000000   \n75%            0.860360        91.000000     91.000000     91.000000   \nmax            0.979705        91.000000     91.000000     91.000000   \n\n       s_17__length  s_3__length  s_7__length  ...  RUL_max__mean  \\\ncount   3983.000000  3983.000000  3983.000000  ...    3983.000000   \nmean      73.911373    73.911373    73.911373  ...     226.348481   \nstd       25.899934    25.899934    25.899934  ...      76.287351   \nmin       23.000000    23.000000    23.000000  ...     102.000000   \n25%       63.000000    63.000000    63.000000  ...     182.000000   \n50%       91.000000    91.000000    91.000000  ...     222.000000   \n75%       91.000000    91.000000    91.000000  ...     262.000000   \nmax       91.000000    91.000000    91.000000  ...     542.000000   \n\n       RUL_max__minimum  RUL_max__absolute_maximum  RUL_max__maximum  \\\ncount       3983.000000                3983.000000       3983.000000   \nmean         226.348481                 226.348481        226.348481   \nstd           76.287351                  76.287351         76.287351   \nmin          102.000000                 102.000000        102.000000   \n25%          182.000000                 182.000000        182.000000   \n50%          222.000000                 222.000000        222.000000   \n75%          262.000000                 262.000000        262.000000   \nmax          542.000000                 542.000000        542.000000   \n\n       RUL_max__root_mean_square  RUL_max__median  s_20__absolute_maximum  \\\ncount                3983.000000      3983.000000             3983.000000   \nmean                  226.348481       226.348481                0.973696   \nstd                    76.287351        76.287351                0.014620   \nmin                   102.000000       102.000000                0.620922   \n25%                   182.000000       182.000000                0.970400   \n50%                   222.000000       222.000000                0.973764   \n75%                   262.000000       262.000000                0.977127   \nmax                   542.000000       542.000000                1.000000   \n\n       s_20__maximum  s_21__maximum  s_21__absolute_maximum  \ncount    3983.000000    3983.000000             3983.000000  \nmean        0.973696       0.972890                0.972890  \nstd         0.014620       0.014635                0.014635  \nmin         0.620922       0.618361                0.618361  \n25%         0.970400       0.969554                0.969554  \n50%         0.973764       0.972804                0.972804  \n75%         0.977127       0.976321                0.976321  \nmax         1.000000       0.996226                0.996226  \n\n[8 rows x 137 columns]",
      "text/html": "<div>\n<style scoped>\n    .dataframe tbody tr th:only-of-type {\n        vertical-align: middle;\n    }\n\n    .dataframe tbody tr th {\n        vertical-align: top;\n    }\n\n    .dataframe thead th {\n        text-align: right;\n    }\n</style>\n<table border=\"1\" class=\"dataframe\">\n  <thead>\n    <tr style=\"text-align: right;\">\n      <th></th>\n      <th>RUL_perc_2__minimum</th>\n      <th>RUL_perc__length</th>\n      <th>RUL_perc__mean</th>\n      <th>RUL_perc__median</th>\n      <th>RUL_max__length</th>\n      <th>s_21__length</th>\n      <th>s_20__length</th>\n      <th>s_17__length</th>\n      <th>s_3__length</th>\n      <th>s_7__length</th>\n      <th>...</th>\n      <th>RUL_max__mean</th>\n      <th>RUL_max__minimum</th>\n      <th>RUL_max__absolute_maximum</th>\n      <th>RUL_max__maximum</th>\n      <th>RUL_max__root_mean_square</th>\n      <th>RUL_max__median</th>\n      <th>s_20__absolute_maximum</th>\n      <th>s_20__maximum</th>\n      <th>s_21__maximum</th>\n      <th>s_21__absolute_maximum</th>\n    </tr>\n  </thead>\n  <tbody>\n    <tr>\n      <th>count</th>\n      <td>3983.000000</td>\n      <td>3983.000000</td>\n      <td>3983.000000</td>\n      <td>3983.000000</td>\n      <td>3983.000000</td>\n      <td>3983.000000</td>\n      <td>3983.000000</td>\n      <td>3983.000000</td>\n      <td>3983.000000</td>\n      <td>3983.000000</td>\n      <td>...</td>\n      <td>3983.000000</td>\n      <td>3983.000000</td>\n      <td>3983.000000</td>\n      <td>3983.000000</td>\n      <td>3983.000000</td>\n      <td>3983.000000</td>\n      <td>3983.000000</td>\n      <td>3983.000000</td>\n      <td>3983.000000</td>\n      <td>3983.000000</td>\n    </tr>\n    <tr>\n      <th>mean</th>\n      <td>0.446401</td>\n      <td>73.911373</td>\n      <td>0.620603</td>\n      <td>0.620603</td>\n      <td>73.911373</td>\n      <td>73.911373</td>\n      <td>73.911373</td>\n      <td>73.911373</td>\n      <td>73.911373</td>\n      <td>73.911373</td>\n      <td>...</td>\n      <td>226.348481</td>\n      <td>226.348481</td>\n      <td>226.348481</td>\n      <td>226.348481</td>\n      <td>226.348481</td>\n      <td>226.348481</td>\n      <td>0.973696</td>\n      <td>0.973696</td>\n      <td>0.972890</td>\n      <td>0.972890</td>\n    </tr>\n    <tr>\n      <th>std</th>\n      <td>0.309002</td>\n      <td>25.899934</td>\n      <td>0.258699</td>\n      <td>0.258699</td>\n      <td>25.899934</td>\n      <td>25.899934</td>\n      <td>25.899934</td>\n      <td>25.899934</td>\n      <td>25.899934</td>\n      <td>25.899934</td>\n      <td>...</td>\n      <td>76.287351</td>\n      <td>76.287351</td>\n      <td>76.287351</td>\n      <td>76.287351</td>\n      <td>76.287351</td>\n      <td>76.287351</td>\n      <td>0.014620</td>\n      <td>0.014620</td>\n      <td>0.014635</td>\n      <td>0.014635</td>\n    </tr>\n    <tr>\n      <th>min</th>\n      <td>0.000000</td>\n      <td>23.000000</td>\n      <td>0.083026</td>\n      <td>0.083026</td>\n      <td>23.000000</td>\n      <td>23.000000</td>\n      <td>23.000000</td>\n      <td>23.000000</td>\n      <td>23.000000</td>\n      <td>23.000000</td>\n      <td>...</td>\n      <td>102.000000</td>\n      <td>102.000000</td>\n      <td>102.000000</td>\n      <td>102.000000</td>\n      <td>102.000000</td>\n      <td>102.000000</td>\n      <td>0.620922</td>\n      <td>0.620922</td>\n      <td>0.618361</td>\n      <td>0.618361</td>\n    </tr>\n    <tr>\n      <th>25%</th>\n      <td>0.180180</td>\n      <td>63.000000</td>\n      <td>0.382883</td>\n      <td>0.382883</td>\n      <td>63.000000</td>\n      <td>63.000000</td>\n      <td>63.000000</td>\n      <td>63.000000</td>\n      <td>63.000000</td>\n      <td>63.000000</td>\n      <td>...</td>\n      <td>182.000000</td>\n      <td>182.000000</td>\n      <td>182.000000</td>\n      <td>182.000000</td>\n      <td>182.000000</td>\n      <td>182.000000</td>\n      <td>0.970400</td>\n      <td>0.970400</td>\n      <td>0.969554</td>\n      <td>0.969554</td>\n    </tr>\n    <tr>\n      <th>50%</th>\n      <td>0.439560</td>\n      <td>91.000000</td>\n      <td>0.686813</td>\n      <td>0.686813</td>\n      <td>91.000000</td>\n      <td>91.000000</td>\n      <td>91.000000</td>\n      <td>91.000000</td>\n      <td>91.000000</td>\n      <td>91.000000</td>\n      <td>...</td>\n      <td>222.000000</td>\n      <td>222.000000</td>\n      <td>222.000000</td>\n      <td>222.000000</td>\n      <td>222.000000</td>\n      <td>222.000000</td>\n      <td>0.973764</td>\n      <td>0.973764</td>\n      <td>0.972804</td>\n      <td>0.972804</td>\n    </tr>\n    <tr>\n      <th>75%</th>\n      <td>0.720721</td>\n      <td>91.000000</td>\n      <td>0.860360</td>\n      <td>0.860360</td>\n      <td>91.000000</td>\n      <td>91.000000</td>\n      <td>91.000000</td>\n      <td>91.000000</td>\n      <td>91.000000</td>\n      <td>91.000000</td>\n      <td>...</td>\n      <td>262.000000</td>\n      <td>262.000000</td>\n      <td>262.000000</td>\n      <td>262.000000</td>\n      <td>262.000000</td>\n      <td>262.000000</td>\n      <td>0.977127</td>\n      <td>0.977127</td>\n      <td>0.976321</td>\n      <td>0.976321</td>\n    </tr>\n    <tr>\n      <th>max</th>\n      <td>0.959410</td>\n      <td>91.000000</td>\n      <td>0.979705</td>\n      <td>0.979705</td>\n      <td>91.000000</td>\n      <td>91.000000</td>\n      <td>91.000000</td>\n      <td>91.000000</td>\n      <td>91.000000</td>\n      <td>91.000000</td>\n      <td>...</td>\n      <td>542.000000</td>\n      <td>542.000000</td>\n      <td>542.000000</td>\n      <td>542.000000</td>\n      <td>542.000000</td>\n      <td>542.000000</td>\n      <td>1.000000</td>\n      <td>1.000000</td>\n      <td>0.996226</td>\n      <td>0.996226</td>\n    </tr>\n  </tbody>\n</table>\n<p>8 rows × 137 columns</p>\n</div>"
     },
     "execution_count": 10,
     "metadata": {},
     "output_type": "execute_result"
    }
   ],
   "source": [
    "X_train.describe()"
   ],
   "metadata": {
    "collapsed": false,
    "ExecuteTime": {
     "end_time": "2023-09-20T14:26:00.262917Z",
     "start_time": "2023-09-20T14:26:00.143307Z"
    }
   },
   "id": "9505eacd34bbd10d"
  },
  {
   "cell_type": "code",
   "execution_count": 11,
   "outputs": [
    {
     "name": "stdout",
     "output_type": "stream",
     "text": [
      "<class 'pandas.core.frame.DataFrame'>\n",
      "MultiIndex: 3983 entries, (1, 23) to (709, 223)\n",
      "Columns: 137 entries, RUL_perc_2__minimum to s_21__absolute_maximum\n",
      "dtypes: float64(137)\n",
      "memory usage: 4.2 MB\n"
     ]
    }
   ],
   "source": [
    "X_train.info()"
   ],
   "metadata": {
    "collapsed": false,
    "ExecuteTime": {
     "end_time": "2023-09-20T14:26:00.518478Z",
     "start_time": "2023-09-20T14:26:00.505311Z"
    }
   },
   "id": "e89af7cc656bf127"
  },
  {
   "cell_type": "code",
   "execution_count": 12,
   "outputs": [
    {
     "name": "stdout",
     "output_type": "stream",
     "text": [
      "roc score for train dataset:  0.9978116141943225\n",
      "Acc Score for train dataset:  0.9977403966859152\n",
      "Precision Score for train dataset:  0.9987603305785124\n",
      "Recall Score for train dataset:  0.9966567607726597\n",
      "f1 score for train dataset:  0.997695752587592\n",
      "roc score for validate dataset:  0.9626726781898738\n",
      "Acc Score for validate dataset:  0.9396191360891779\n",
      "Precision Score for validate dataset:  0.955110497237569\n",
      "Recall Score for validate dataset:  0.9461920529801324\n",
      "f1 score for validate dataset:  0.945193003398076\n"
     ]
    }
   ],
   "source": [
    "evaluation(rf, X_train, y_train, set=\"train\")\n",
    "evaluation(rf, X_validate, y_validate, set=\"validate\")"
   ],
   "metadata": {
    "collapsed": false,
    "ExecuteTime": {
     "end_time": "2023-09-20T14:26:01.159570Z",
     "start_time": "2023-09-20T14:26:00.945694Z"
    }
   },
   "id": "fc6af51a3f43ad59"
  },
  {
   "cell_type": "code",
   "execution_count": 19,
   "outputs": [
    {
     "ename": "ValueError",
     "evalue": "multilabel-indicator is not supported",
     "output_type": "error",
     "traceback": [
      "\u001B[0;31m---------------------------------------------------------------------------\u001B[0m",
      "\u001B[0;31mValueError\u001B[0m                                Traceback (most recent call last)",
      "Cell \u001B[0;32mIn[19], line 7\u001B[0m\n\u001B[1;32m      5\u001B[0m y_lb \u001B[38;5;241m=\u001B[39m lb\u001B[38;5;241m.\u001B[39mfit_transform(y_validate)\n\u001B[1;32m      6\u001B[0m y_hat_lb \u001B[38;5;241m=\u001B[39m lb\u001B[38;5;241m.\u001B[39mtransform(y_hat)\n\u001B[0;32m----> 7\u001B[0m confusion \u001B[38;5;241m=\u001B[39m confusion_matrix(y_lb, y_hat_lb)\n\u001B[1;32m      8\u001B[0m confusion\n",
      "File \u001B[0;32m~/anaconda3/envs/Testing/lib/python3.11/site-packages/sklearn/metrics/_classification.py:319\u001B[0m, in \u001B[0;36mconfusion_matrix\u001B[0;34m(y_true, y_pred, labels, sample_weight, normalize)\u001B[0m\n\u001B[1;32m    317\u001B[0m y_type, y_true, y_pred \u001B[38;5;241m=\u001B[39m _check_targets(y_true, y_pred)\n\u001B[1;32m    318\u001B[0m \u001B[38;5;28;01mif\u001B[39;00m y_type \u001B[38;5;129;01mnot\u001B[39;00m \u001B[38;5;129;01min\u001B[39;00m (\u001B[38;5;124m\"\u001B[39m\u001B[38;5;124mbinary\u001B[39m\u001B[38;5;124m\"\u001B[39m, \u001B[38;5;124m\"\u001B[39m\u001B[38;5;124mmulticlass\u001B[39m\u001B[38;5;124m\"\u001B[39m):\n\u001B[0;32m--> 319\u001B[0m     \u001B[38;5;28;01mraise\u001B[39;00m \u001B[38;5;167;01mValueError\u001B[39;00m(\u001B[38;5;124m\"\u001B[39m\u001B[38;5;132;01m%s\u001B[39;00m\u001B[38;5;124m is not supported\u001B[39m\u001B[38;5;124m\"\u001B[39m \u001B[38;5;241m%\u001B[39m y_type)\n\u001B[1;32m    321\u001B[0m \u001B[38;5;28;01mif\u001B[39;00m labels \u001B[38;5;129;01mis\u001B[39;00m \u001B[38;5;28;01mNone\u001B[39;00m:\n\u001B[1;32m    322\u001B[0m     labels \u001B[38;5;241m=\u001B[39m unique_labels(y_true, y_pred)\n",
      "\u001B[0;31mValueError\u001B[0m: multilabel-indicator is not supported"
     ]
    }
   ],
   "source": [
    "from sklearn.metrics import roc_auc_score, accuracy_score, recall_score, precision_score, f1_score, confusion_matrix\n",
    "\n",
    "y_hat = rf.predict(X_validate)\n",
    "lb = preprocessing.LabelBinarizer()\n",
    "y_lb = lb.fit_transform(y_validate)\n",
    "y_hat_lb = lb.transform(y_hat)\n",
    "confusion = confusion_matrix(y_lb, y_hat_lb)\n",
    "confusion"
   ],
   "metadata": {
    "collapsed": false,
    "ExecuteTime": {
     "end_time": "2023-09-20T14:31:04.636933Z",
     "start_time": "2023-09-20T14:31:04.577215Z"
    }
   },
   "id": "3ffedf69e3d6398"
  },
  {
   "cell_type": "code",
   "execution_count": 20,
   "outputs": [
    {
     "data": {
      "text/plain": "array([[4.58272688e-01, 1.18474939e-01, 6.10727001e-02, 3.62179673e-01],\n       [8.22270462e-03, 1.21675152e-02, 4.50812419e-02, 9.34528538e-01],\n       [1.06801520e-01, 1.70159040e-01, 5.99757733e-01, 1.23281707e-01],\n       ...,\n       [6.57335505e-02, 1.58606554e-01, 7.47082807e-01, 2.85770880e-02],\n       [1.42937117e-01, 7.93013134e-01, 6.05145484e-02, 3.53520033e-03],\n       [9.07953567e-01, 8.18814604e-02, 9.64789515e-03, 5.17077470e-04]])"
     },
     "execution_count": 20,
     "metadata": {},
     "output_type": "execute_result"
    }
   ],
   "source": [
    "rf.predict_proba(X_validate)"
   ],
   "metadata": {
    "collapsed": false,
    "ExecuteTime": {
     "end_time": "2023-09-20T14:31:07.289475Z",
     "start_time": "2023-09-20T14:31:07.240978Z"
    }
   },
   "id": "3af2396848b62597"
  },
  {
   "cell_type": "code",
   "execution_count": 21,
   "outputs": [
    {
     "data": {
      "text/plain": "['classification_model.joblib']"
     },
     "execution_count": 21,
     "metadata": {},
     "output_type": "execute_result"
    }
   ],
   "source": [
    "import joblib\n",
    "\n",
    "joblib.dump(rf, \"classification_model.joblib\")"
   ],
   "metadata": {
    "collapsed": false,
    "ExecuteTime": {
     "end_time": "2023-09-20T14:31:10.538362Z",
     "start_time": "2023-09-20T14:31:10.477115Z"
    }
   },
   "id": "af75eeb6fb73863f"
  },
  {
   "cell_type": "code",
   "execution_count": 22,
   "outputs": [],
   "source": [
    "import numpy as np\n",
    "import matplotlib.pyplot as plt\n",
    "import seaborn as sns\n",
    "from sklearn.metrics import confusion_matrix\n"
   ],
   "metadata": {
    "collapsed": false,
    "ExecuteTime": {
     "end_time": "2023-09-20T14:31:13.091210Z",
     "start_time": "2023-09-20T14:31:13.081970Z"
    }
   },
   "id": "5c34e0797a3de27b"
  },
  {
   "cell_type": "code",
   "execution_count": 24,
   "outputs": [],
   "source": [
    "cm = confusion_matrix(y_validate, y_hat)"
   ],
   "metadata": {
    "collapsed": false,
    "ExecuteTime": {
     "end_time": "2023-09-20T14:31:20.199861Z",
     "start_time": "2023-09-20T14:31:20.186727Z"
    }
   },
   "id": "76841f05cdfbb8"
  },
  {
   "cell_type": "code",
   "execution_count": 26,
   "outputs": [
    {
     "data": {
      "text/plain": "<Figure size 800x600 with 1 Axes>",
      "image/png": "[encoded data removed]"
     },
     "metadata": {},
     "output_type": "display_data"
    }
   ],
   "source": [
    "# Define class labels (change to your own class labels)\n",
    "class_labels = [\"Class 0\", \"Class 1\", \"Class 2\", \"Class 3\"]\n",
    "\n",
    "# Create a heatmap of the confusion matrix\n",
    "plt.figure(figsize=(8, 6))\n",
    "sns.set(font_scale=1.2)  # Adjust the font scale for better readability\n",
    "sns.heatmap(cm, annot=True, cmap=\"Blues\", fmt=\"d\", cbar=False, square=True,\n",
    "            xticklabels=class_labels, yticklabels=class_labels)\n",
    "\n",
    "plt.xlabel('Predicted')\n",
    "plt.ylabel('Actual')\n",
    "plt.title('Confusion Matrix')\n",
    "plt.show()\n"
   ],
   "metadata": {
    "collapsed": false,
    "ExecuteTime": {
     "end_time": "2023-09-20T14:31:38.653039Z",
     "start_time": "2023-09-20T14:31:38.558722Z"
    }
   },
   "id": "d6aa3513faa6d4c6"
  },
  {
   "cell_type": "code",
   "execution_count": 26,
   "outputs": [],
   "source": [],
   "metadata": {
    "collapsed": false,
    "ExecuteTime": {
     "end_time": "2023-09-20T14:31:39.192471Z",
     "start_time": "2023-09-20T14:31:39.174586Z"
    }
   },
   "id": "cf7c0c98393ffd63"
  },
  {
   "cell_type": "code",
   "execution_count": null,
   "outputs": [],
   "source": [],
   "metadata": {
    "collapsed": false
   },
   "id": "ad7b666e0898d613"
  }
 ],
 "metadata": {
  "kernelspec": {
   "display_name": "Python 3",
   "language": "python",
   "name": "python3"
  },
  "language_info": {
   "codemirror_mode": {
    "name": "ipython",
    "version": 2
   },
   "file_extension": ".py",
   "mimetype": "text/x-python",
   "name": "python",
   "nbconvert_exporter": "python",
   "pygments_lexer": "ipython2",
   "version": "2.7.6"
  }
 },
 "nbformat": 4,
 "nbformat_minor": 5
}
